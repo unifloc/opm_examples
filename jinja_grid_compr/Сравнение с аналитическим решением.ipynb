{
 "cells": [
  {
   "cell_type": "code",
   "execution_count": 6,
   "metadata": {
    "scrolled": true
   },
   "outputs": [],
   "source": [
    "#from model_create import ModelGenerator, clear_folders\n",
    "#clear_folders()\n",
    "# Параметры, которые необходимо расчитать:\n",
    "parameters = ['FOPT', 'WOPR:*', 'FPR', 'WBHP:P1',]# 'FWPT', 'FLPT', 'FGPT', 'FWIT']\n",
    "\n",
    "# Зададим дату начала расчета и продолжительность:\n",
    "start_date = \"1 'JAN' 2020\"\n",
    "mounths = 12 # количество итераций;\n",
    "days = 5 # продолжительность итерации;\n",
    "# Зададим размеры модели:\n",
    "lgr = True # локальное измельчение сетки по центру;\n",
    "cells_cy = 20 # количество измельченных ячеек по y;\n",
    "cells_cx = 4 # количество измельченных ячеек по x;\n",
    "cells_v = 10 # размер измельченных ячеек, м;\n",
    "nx = 40 # количество ячеек по х;\n",
    "ny = 40 # количество ячеек по y;\n",
    "nz = 10 # количество ячеек по z;\n",
    "lx = 1500 # длина модели по x, м;\n",
    "ly = lx # длина модели по y, м;\n",
    "dz = 1 # размер ячейки по z, м;\n",
    "tops_depth = 2500 # глубина залегания пласта, м;\n",
    "# Зададим пористость и проницаемость:\n",
    "por = 0.3 # пористость, д.ед;\n",
    "permx = 200 # проницаемость по x, мД;\n",
    "permy = permx # проницаемость по y, мД;\n",
    "permz = permx*0.1 # проницаемость по z, мД;\n",
    "# Зададим название, расположение добываюещей скважины и ее режим работы:\n",
    "horizontal = [True] # Идентификатор горизонтальной скважины для скрипта\n",
    "prod_names = ['P1'] # название скважин;\n",
    "prod_xs=[15] # координата скважин по x;\n",
    "prod_ys=[11] # координата скважин по y (если horizontal=true - начальная координата);\n",
    "y_stop = [31] # координата конца горизонтальной скважины, если horizontal=true;\n",
    "prod_z1s=[1] # начало интервала вскрытия по z;\n",
    "prod_z2s=[6] # конец интервала вскрытия по z (если horizontal=true, то показывает уровень вскрытия);\n",
    "rezim = ['BHP'] # Режим работы скважины\n",
    "prod_q_oil = ['*'] # дебит, м3/сут;\n",
    "prod_bhp = ['200'] # забойное давление, атм;\n",
    "# Другие настройки модели:\n",
    "only_prod = True # Модель только с добывающими скважинами\n",
    "upr_rezim_water = False # Моделируем упруго-водонапорный режим\n",
    "upr_rezim_gas = False # Моделируем газонапорный режим\n",
    "# Задаем скин, радиус скважины (последовательно для добывающих и нагнетательных скважин):\n",
    "skin = [0]\n",
    "rw = [0.073]\n",
    "# Свойства продукции:\n",
    "oil_den = 860 # плотность нефти, кг/м3;\n",
    "wat_den = 1010 # плотность воды, кг/м3;\n",
    "gas_den = 0.9 # плотность газа, кг/м3;\n",
    "density = [oil_den, wat_den, gas_den]\n",
    "# EQUILIBRIUM DATA:\n",
    "p_depth = 2500 # Глубина замера пластового давления, м;\n",
    "p_init = 320  # Начальное пластовое давление, атм;\n",
    "o_w_contact = 2550 # Глубина ВНК, м;\n",
    "pc_woc = 0 # Капиллярное давление на ВНК \n",
    "g_o_contact = 2400 # Глубина ГНК, м;\n",
    "pc_goc = 0 # Капиллярное давление на ГНК\n",
    "\n",
    "model_name = f'TEST_MODEL_HORIZONTAL.0'\n",
    "result_name = model_name\n",
    "# model = ModelGenerator(init_file_name='RIENM1_INIT.DATA',start_date=start_date, mounths=mounths,\n",
    "#                 days=days, nx=nx, ny=ny, nz=nz, dz=dz, por=por, permx=permx,\n",
    "#                 permy=permy, permz=permz, prod_names=prod_names, prod_xs=prod_xs,\n",
    "#                 prod_ys=prod_ys, prod_z1s=prod_z1s, prod_z2s=prod_z2s, prod_q_oil=prod_q_oil,\n",
    "#                 skin=skin, density=density, p_depth=p_depth, \n",
    "#                 p_init=p_init, o_w_contact=o_w_contact, pc_woc=pc_woc, g_o_contact=g_o_contact,\n",
    "#                 pc_goc=pc_goc, tops_depth = tops_depth,\n",
    "#                 rezim=rezim, prod_bhp=prod_bhp, horizontal=horizontal, y_stop=y_stop, only_prod=only_prod,\n",
    "#                 lgr=lgr, lx=lx, ly=ly, cells_cy=cells_cy, cells_v=cells_v, cells_cx=cells_cx,\n",
    "#                 upr_rezim_water=upr_rezim_water, upr_rezim_gas=upr_rezim_gas, rw=rw)\n",
    "# model.create_model(model_name, result_name, parameters)"
   ]
  },
  {
   "cell_type": "code",
   "execution_count": 7,
   "metadata": {},
   "outputs": [],
   "source": [
    "# model.summ_plot(['WOPR:P1'], name = [''])\n",
    "# model.iplot_fig()"
   ]
  },
  {
   "cell_type": "code",
   "execution_count": 8,
   "metadata": {},
   "outputs": [],
   "source": [
    "import sys\n",
    "import clr\n",
    "import DLLs\n",
    "from ctypes import *\n",
    "import os\n",
    "\n",
    "cur_path = os.path.abspath('') + '\\\\dll'\n",
    "sys.path.append(f'{cur_path}')\n",
    "clr.AddReference('HMLW_net')\n",
    "\n",
    "import HMLW_net\n",
    "# написать гайд по установке pythonnet (пока только в windows)"
   ]
  },
  {
   "cell_type": "code",
   "execution_count": 64,
   "metadata": {},
   "outputs": [],
   "source": [
    "# Расчет продуктивности горизонатльной скважины на установившемся режиме\n",
    "# Horizontal Well Productivity calculation (Ozkan model, 1989 and Joshi model, 1988)\n",
    "# надо найти литературу\n",
    "#model = 1 # 1-Ozkan; 2-Joshi;\n",
    "def HWP(kk, h, re, rw, L, zw, model, mu, B, dP):\n",
    "#     if model == 1:\n",
    "#         print('Lmin: ' + str(round(8.6*kk**(-0.5)*h,1)))\n",
    "#         print('Lmax: ' + str(round(2*re,1)))\n",
    "#     elif model == 2:\n",
    "#         print('Lmin: ' + str(round(kk**(-0.5)*h,1)))\n",
    "#         print('Lmax: ' + str(round(1.8*re,1)))\n",
    "\n",
    "    Jd = round(HMLW_net.HMLW_module.Jd_horizontal(rw, h, kk, L, zw, re, model),2)\n",
    "    Sh = round(HMLW_net.HMLW_module.S_from_Jdss(Jd, rw, re),2)\n",
    "    Qh = round(HMLW_net.HMLW_module.Q_from_Jd(Jd, kh, h, mu, B, dP),2)\n",
    "    return Qh\n",
    "\n",
    "\n",
    "# метод источников (литература есть)\n",
    "def HWP_ist(rw, kh, h, kk, zw, re, mu, B, Pwf, Pe):\n",
    "    n = 1 # количество стволов\n",
    "    # траектория (последовательно собираются коориднаты x,y источников по стволам)\n",
    "    n_ist = [10] # для каждого ствола количество источников\n",
    "    a = 20 # расстояние между источниками\n",
    "    nt = 10 # общее количество источников\n",
    "    array0 = [0, 0, 0, 0, 0, 0, 0, 0, 0, 0] # X\n",
    "    array1 = [0, 20, 40, 60, 80, 100, 120, 140, 160, 180, 200] # Y\n",
    "\n",
    "    Qh = round(HMLW_net.HMLW_module.MultilateralWellSourcesJdCalc( rw, kh, h, kk, zw, n, re, mu, B, Pwf, Pe, a, nt, n_ist, array0, array1)[0],2)\n",
    "    #Jd = round(Qh*18.42*mu*B/(kh*h*(Pe-Pwf)),2)\n",
    "    #Sh = round(HMLW_net.HMLW_module.S_from_Jdss(Jd, rw, re),2)\n",
    "    return Qh"
   ]
  },
  {
   "cell_type": "code",
   "execution_count": 87,
   "metadata": {},
   "outputs": [],
   "source": [
    "import math as m\n",
    "# Вариант №1\n",
    "# Батлер - приток на псевдоустановившемся режиме к протяженной горизонтальной скважины 147 с.\n",
    "def bat_1(lx, dP, permx, mu, permz, rw, h, L, B):\n",
    "    pi = 3.14\n",
    "    Rк = lx/2 # м, радиус контура питания\n",
    "    dP = dP/10*10**6 # Па, перепад давления\n",
    "    kh = permx/10**15 # м2, проницаемость (в числовой модели изотропный пласт)\n",
    "    mu = mu/1000 # Па*с, вязкость\n",
    "    a = lx # м, сторона модели\n",
    "    kv = permz/10**15\n",
    "    Rm = 0.5*rw*(1+m.sqrt(kh/kv))\n",
    "    hm = h*m.sqrt(kh/kv)\n",
    "    Q5 = (6*kh*L*h*dP)/(mu*(a/2+3*hm/3.14*m.log1p(hm/2/3.14/Rm)))*86400/B\n",
    "    return Q5\n",
    "\n",
    "# Вариант №2\n",
    "# Батлер - неуст. режим в центре прямоуг зоны с учетом вертикального схождения\n",
    "def bat_2(S, lx, ly, L, permx, permz, rw, h, dP, mu, B):\n",
    "    A = lx*ly\n",
    "    prow = A/(L**2) \n",
    "    if prow < 35:\n",
    "        P = m.log1p(1+prow)/12\n",
    "    else:\n",
    "        P = (m.log1p(prow)+0.1515)/(4*3.14)\n",
    "    kh = permx/10**15 # м2, проницаемость (в числовой модели изотропный пласт)\n",
    "    kv = permz/10**15\n",
    "    mu = mu/1000 # Па*с, вязкость\n",
    "    dP = dP/10*10**6 # Па, перепад давления\n",
    "    hm = h*m.sqrt(kh/kv)\n",
    "    Rm = 0.5*rw*(1+m.sqrt(kh/kv))\n",
    "    P_ = hm/(2*3.14*L)*(m.log1p(hm/(2*3.14*Rm*m.sin(3.14/2)))+S)\n",
    "    Q1 = kh*h*dP/mu/(P_+P)*86400/B\n",
    "    return Q1"
   ]
  },
  {
   "cell_type": "code",
   "execution_count": 88,
   "metadata": {},
   "outputs": [],
   "source": [
    "# метод для добавления данных на график\n",
    "import pandas as pd \n",
    "import plotly.graph_objects as go\n",
    "from plotly.offline import iplot\n",
    "\n",
    "def figure_plot(filename, rw, kh, h, kk, L, zw, re, mu, B, lx, ly, S, start_date):\n",
    "    # Получаем забойное и пластовое давление на все иттерации\n",
    "    start_date = pd.to_datetime(start_date)\n",
    "    df_time = pd.read_csv(f'csv_folder/{filename}.csv', parse_dates=[0], index_col=[0], usecols=['Time' ,'FPR', 'WBHP:P1', 'WOPR:P1'])\n",
    "    \n",
    "    fig = go.Figure()\n",
    "    trace_name = ['OPM', 'Батлер - псевдоуст. (147с.)', 'Батлер - неуст. с учет. верт. схожд.', 'HWP (Ozkan)', 'HWP (Joshi)', 'Метод источников']\n",
    "    df_y = []\n",
    "    df_y.append(df_time['WOPR:P1'])\n",
    "    y_list = []\n",
    "    for i in df_time.values:\n",
    "        dP = i[1] - i[2]\n",
    "        y_list.append(bat_1(lx, dP, kh, mu, kh*kk, rw, h, L, B))\n",
    "    df_y.append(y_list)\n",
    "    y_list = []\n",
    "    for i in df_time.values:\n",
    "        dP = i[1] - i[2]\n",
    "        y_list.append(bat_2(S, lx, ly, L, kh, kh*kk, rw, h, dP, mu, B))\n",
    "    df_y.append(y_list)\n",
    "    y_list = []\n",
    "    for i in df_time.values:\n",
    "        dP = i[1] - i[2]\n",
    "        y_list.append(HWP(kk, h, re, rw, L, zw, 1, mu, B, dP))\n",
    "    df_y.append(y_list)\n",
    "    y_list = []\n",
    "    for i in df_time.values:\n",
    "        dP = i[1] - i[2]\n",
    "        y_list.append(HWP(kk, h, re, rw, L, zw, 2, mu, B, dP))\n",
    "    df_y.append(y_list)\n",
    "    y_list = []\n",
    "    for i in df_time.values:\n",
    "        y_list.append(HWP_ist(rw, kh, h, kk, zw, re, mu, B, i[2], i[1]))\n",
    "    df_y.append(y_list)\n",
    "    for i in range(0, 6):\n",
    "        fig.add_trace(go.Scatter(\n",
    "                x=df_time.index,\n",
    "                y=df_y[i],\n",
    "                mode='lines',\n",
    "                name=trace_name[i]))\n",
    "    fig.update_xaxes(tickformat='%d.%m.%y')\n",
    "    fig.update_layout(title=go.layout.Title(text='Сравнение аналитических решений и коммерческих симуляторов'),\n",
    "                           xaxis_title='Дата',\n",
    "                           yaxis_title='Qж, м3/сут')\n",
    "    return fig"
   ]
  },
  {
   "cell_type": "code",
   "execution_count": 89,
   "metadata": {},
   "outputs": [
    {
     "data": {
      "application/vnd.plotly.v1+json": {
       "config": {
        "linkText": "Export to plot.ly",
        "plotlyServerURL": "https://plot.ly",
        "showLink": false
       },
       "data": [
        {
         "mode": "lines",
         "name": "OPM",
         "type": "scatter",
         "x": [
          "2020-01-02T00:00:00",
          "2020-01-04T00:27:53",
          "2020-01-06T00:00:00",
          "2020-01-11T00:00:00",
          "2020-01-16T00:00:00",
          "2020-01-21T00:00:00",
          "2020-01-26T00:00:00",
          "2020-01-31T00:00:00",
          "2020-02-05T00:00:00",
          "2020-02-10T00:00:00",
          "2020-02-15T00:00:00",
          "2020-02-20T00:00:00",
          "2020-02-25T00:00:00",
          "2020-03-01T00:00:00"
         ],
         "y": [
          4154.32275390625,
          3060.063232421875,
          2728.43603515625,
          2382.885986328125,
          2148.6943359375,
          1955.05322265625,
          1783.4813232421875,
          1627.956787109375,
          1485.9300537109375,
          1355.9464111328125,
          1236.9210205078125,
          1127.9595947265625,
          1028.2801513671877,
          937.0891723632812
         ]
        },
        {
         "mode": "lines",
         "name": "Батлер - псевдоуст. (147с.)",
         "type": "scatter",
         "x": [
          "2020-01-02T00:00:00",
          "2020-01-04T00:27:53",
          "2020-01-06T00:00:00",
          "2020-01-11T00:00:00",
          "2020-01-16T00:00:00",
          "2020-01-21T00:00:00",
          "2020-01-26T00:00:00",
          "2020-01-31T00:00:00",
          "2020-02-05T00:00:00",
          "2020-02-10T00:00:00",
          "2020-02-15T00:00:00",
          "2020-02-20T00:00:00",
          "2020-02-25T00:00:00",
          "2020-03-01T00:00:00"
         ],
         "y": [
          4715.355283577357,
          4513.545478610472,
          4337.243832191105,
          3948.1763934061196,
          3597.2253013864747,
          3277.766979077986,
          2986.2298656936327,
          2720.0211632267014,
          2476.955583708575,
          2255.0903753564353,
          2052.65145368422,
          1867.9890801691338,
          1699.618490140669,
          1546.134327984074
         ]
        },
        {
         "mode": "lines",
         "name": "Батлер - неуст. с учет. верт. схожд.",
         "type": "scatter",
         "x": [
          "2020-01-02T00:00:00",
          "2020-01-04T00:27:53",
          "2020-01-06T00:00:00",
          "2020-01-11T00:00:00",
          "2020-01-16T00:00:00",
          "2020-01-21T00:00:00",
          "2020-01-26T00:00:00",
          "2020-01-31T00:00:00",
          "2020-02-05T00:00:00",
          "2020-02-10T00:00:00",
          "2020-02-15T00:00:00",
          "2020-02-20T00:00:00",
          "2020-02-25T00:00:00",
          "2020-03-01T00:00:00"
         ],
         "y": [
          7954.262065328821,
          7613.832133855735,
          7316.4315322398415,
          6660.119508422584,
          6068.105377958222,
          5529.215928112951,
          5037.426346592951,
          4588.362881350378,
          4178.33920290522,
          3804.078112429586,
          3462.586933427324,
          3151.0827467416775,
          2867.0609251315777,
          2608.1507953004348
         ]
        },
        {
         "mode": "lines",
         "name": "HWP (Ozkan)",
         "type": "scatter",
         "x": [
          "2020-01-02T00:00:00",
          "2020-01-04T00:27:53",
          "2020-01-06T00:00:00",
          "2020-01-11T00:00:00",
          "2020-01-16T00:00:00",
          "2020-01-21T00:00:00",
          "2020-01-26T00:00:00",
          "2020-01-31T00:00:00",
          "2020-02-05T00:00:00",
          "2020-02-10T00:00:00",
          "2020-02-15T00:00:00",
          "2020-02-20T00:00:00",
          "2020-02-25T00:00:00",
          "2020-03-01T00:00:00"
         ],
         "y": [
          6348.93,
          6077.2,
          5839.82,
          5315.97,
          4843.44,
          4413.31,
          4020.77,
          3662.34,
          3335.06,
          3036.34,
          2763.77,
          2515.13,
          2288.43,
          2081.77
         ]
        },
        {
         "mode": "lines",
         "name": "HWP (Joshi)",
         "type": "scatter",
         "x": [
          "2020-01-02T00:00:00",
          "2020-01-04T00:27:53",
          "2020-01-06T00:00:00",
          "2020-01-11T00:00:00",
          "2020-01-16T00:00:00",
          "2020-01-21T00:00:00",
          "2020-01-26T00:00:00",
          "2020-01-31T00:00:00",
          "2020-02-05T00:00:00",
          "2020-02-10T00:00:00",
          "2020-02-15T00:00:00",
          "2020-02-20T00:00:00",
          "2020-02-25T00:00:00",
          "2020-03-01T00:00:00"
         ],
         "y": [
          6137.3,
          5874.63,
          5645.16,
          5138.77,
          4681.99,
          4266.2,
          3886.74,
          3540.26,
          3223.9,
          2935.13,
          2671.64,
          2431.29,
          2212.15,
          2012.38
         ]
        },
        {
         "mode": "lines",
         "name": "Метод источников",
         "type": "scatter",
         "x": [
          "2020-01-02T00:00:00",
          "2020-01-04T00:27:53",
          "2020-01-06T00:00:00",
          "2020-01-11T00:00:00",
          "2020-01-16T00:00:00",
          "2020-01-21T00:00:00",
          "2020-01-26T00:00:00",
          "2020-01-31T00:00:00",
          "2020-02-05T00:00:00",
          "2020-02-10T00:00:00",
          "2020-02-15T00:00:00",
          "2020-02-20T00:00:00",
          "2020-02-25T00:00:00",
          "2020-03-01T00:00:00"
         ],
         "y": [
          6048.89,
          5790.01,
          5563.85,
          5064.75,
          4614.55,
          4204.74,
          3830.76,
          3489.26,
          3177.46,
          2892.85,
          2633.16,
          2396.27,
          2180.28,
          1983.39
         ]
        }
       ],
       "layout": {
        "template": {
         "data": {
          "bar": [
           {
            "error_x": {
             "color": "#2a3f5f"
            },
            "error_y": {
             "color": "#2a3f5f"
            },
            "marker": {
             "line": {
              "color": "#E5ECF6",
              "width": 0.5
             }
            },
            "type": "bar"
           }
          ],
          "barpolar": [
           {
            "marker": {
             "line": {
              "color": "#E5ECF6",
              "width": 0.5
             }
            },
            "type": "barpolar"
           }
          ],
          "carpet": [
           {
            "aaxis": {
             "endlinecolor": "#2a3f5f",
             "gridcolor": "white",
             "linecolor": "white",
             "minorgridcolor": "white",
             "startlinecolor": "#2a3f5f"
            },
            "baxis": {
             "endlinecolor": "#2a3f5f",
             "gridcolor": "white",
             "linecolor": "white",
             "minorgridcolor": "white",
             "startlinecolor": "#2a3f5f"
            },
            "type": "carpet"
           }
          ],
          "choropleth": [
           {
            "colorbar": {
             "outlinewidth": 0,
             "ticks": ""
            },
            "type": "choropleth"
           }
          ],
          "contour": [
           {
            "colorbar": {
             "outlinewidth": 0,
             "ticks": ""
            },
            "colorscale": [
             [
              0,
              "#0d0887"
             ],
             [
              0.1111111111111111,
              "#46039f"
             ],
             [
              0.2222222222222222,
              "#7201a8"
             ],
             [
              0.3333333333333333,
              "#9c179e"
             ],
             [
              0.4444444444444444,
              "#bd3786"
             ],
             [
              0.5555555555555556,
              "#d8576b"
             ],
             [
              0.6666666666666666,
              "#ed7953"
             ],
             [
              0.7777777777777778,
              "#fb9f3a"
             ],
             [
              0.8888888888888888,
              "#fdca26"
             ],
             [
              1,
              "#f0f921"
             ]
            ],
            "type": "contour"
           }
          ],
          "contourcarpet": [
           {
            "colorbar": {
             "outlinewidth": 0,
             "ticks": ""
            },
            "type": "contourcarpet"
           }
          ],
          "heatmap": [
           {
            "colorbar": {
             "outlinewidth": 0,
             "ticks": ""
            },
            "colorscale": [
             [
              0,
              "#0d0887"
             ],
             [
              0.1111111111111111,
              "#46039f"
             ],
             [
              0.2222222222222222,
              "#7201a8"
             ],
             [
              0.3333333333333333,
              "#9c179e"
             ],
             [
              0.4444444444444444,
              "#bd3786"
             ],
             [
              0.5555555555555556,
              "#d8576b"
             ],
             [
              0.6666666666666666,
              "#ed7953"
             ],
             [
              0.7777777777777778,
              "#fb9f3a"
             ],
             [
              0.8888888888888888,
              "#fdca26"
             ],
             [
              1,
              "#f0f921"
             ]
            ],
            "type": "heatmap"
           }
          ],
          "heatmapgl": [
           {
            "colorbar": {
             "outlinewidth": 0,
             "ticks": ""
            },
            "colorscale": [
             [
              0,
              "#0d0887"
             ],
             [
              0.1111111111111111,
              "#46039f"
             ],
             [
              0.2222222222222222,
              "#7201a8"
             ],
             [
              0.3333333333333333,
              "#9c179e"
             ],
             [
              0.4444444444444444,
              "#bd3786"
             ],
             [
              0.5555555555555556,
              "#d8576b"
             ],
             [
              0.6666666666666666,
              "#ed7953"
             ],
             [
              0.7777777777777778,
              "#fb9f3a"
             ],
             [
              0.8888888888888888,
              "#fdca26"
             ],
             [
              1,
              "#f0f921"
             ]
            ],
            "type": "heatmapgl"
           }
          ],
          "histogram": [
           {
            "marker": {
             "colorbar": {
              "outlinewidth": 0,
              "ticks": ""
             }
            },
            "type": "histogram"
           }
          ],
          "histogram2d": [
           {
            "colorbar": {
             "outlinewidth": 0,
             "ticks": ""
            },
            "colorscale": [
             [
              0,
              "#0d0887"
             ],
             [
              0.1111111111111111,
              "#46039f"
             ],
             [
              0.2222222222222222,
              "#7201a8"
             ],
             [
              0.3333333333333333,
              "#9c179e"
             ],
             [
              0.4444444444444444,
              "#bd3786"
             ],
             [
              0.5555555555555556,
              "#d8576b"
             ],
             [
              0.6666666666666666,
              "#ed7953"
             ],
             [
              0.7777777777777778,
              "#fb9f3a"
             ],
             [
              0.8888888888888888,
              "#fdca26"
             ],
             [
              1,
              "#f0f921"
             ]
            ],
            "type": "histogram2d"
           }
          ],
          "histogram2dcontour": [
           {
            "colorbar": {
             "outlinewidth": 0,
             "ticks": ""
            },
            "colorscale": [
             [
              0,
              "#0d0887"
             ],
             [
              0.1111111111111111,
              "#46039f"
             ],
             [
              0.2222222222222222,
              "#7201a8"
             ],
             [
              0.3333333333333333,
              "#9c179e"
             ],
             [
              0.4444444444444444,
              "#bd3786"
             ],
             [
              0.5555555555555556,
              "#d8576b"
             ],
             [
              0.6666666666666666,
              "#ed7953"
             ],
             [
              0.7777777777777778,
              "#fb9f3a"
             ],
             [
              0.8888888888888888,
              "#fdca26"
             ],
             [
              1,
              "#f0f921"
             ]
            ],
            "type": "histogram2dcontour"
           }
          ],
          "mesh3d": [
           {
            "colorbar": {
             "outlinewidth": 0,
             "ticks": ""
            },
            "type": "mesh3d"
           }
          ],
          "parcoords": [
           {
            "line": {
             "colorbar": {
              "outlinewidth": 0,
              "ticks": ""
             }
            },
            "type": "parcoords"
           }
          ],
          "pie": [
           {
            "automargin": true,
            "type": "pie"
           }
          ],
          "scatter": [
           {
            "marker": {
             "colorbar": {
              "outlinewidth": 0,
              "ticks": ""
             }
            },
            "type": "scatter"
           }
          ],
          "scatter3d": [
           {
            "line": {
             "colorbar": {
              "outlinewidth": 0,
              "ticks": ""
             }
            },
            "marker": {
             "colorbar": {
              "outlinewidth": 0,
              "ticks": ""
             }
            },
            "type": "scatter3d"
           }
          ],
          "scattercarpet": [
           {
            "marker": {
             "colorbar": {
              "outlinewidth": 0,
              "ticks": ""
             }
            },
            "type": "scattercarpet"
           }
          ],
          "scattergeo": [
           {
            "marker": {
             "colorbar": {
              "outlinewidth": 0,
              "ticks": ""
             }
            },
            "type": "scattergeo"
           }
          ],
          "scattergl": [
           {
            "marker": {
             "colorbar": {
              "outlinewidth": 0,
              "ticks": ""
             }
            },
            "type": "scattergl"
           }
          ],
          "scattermapbox": [
           {
            "marker": {
             "colorbar": {
              "outlinewidth": 0,
              "ticks": ""
             }
            },
            "type": "scattermapbox"
           }
          ],
          "scatterpolar": [
           {
            "marker": {
             "colorbar": {
              "outlinewidth": 0,
              "ticks": ""
             }
            },
            "type": "scatterpolar"
           }
          ],
          "scatterpolargl": [
           {
            "marker": {
             "colorbar": {
              "outlinewidth": 0,
              "ticks": ""
             }
            },
            "type": "scatterpolargl"
           }
          ],
          "scatterternary": [
           {
            "marker": {
             "colorbar": {
              "outlinewidth": 0,
              "ticks": ""
             }
            },
            "type": "scatterternary"
           }
          ],
          "surface": [
           {
            "colorbar": {
             "outlinewidth": 0,
             "ticks": ""
            },
            "colorscale": [
             [
              0,
              "#0d0887"
             ],
             [
              0.1111111111111111,
              "#46039f"
             ],
             [
              0.2222222222222222,
              "#7201a8"
             ],
             [
              0.3333333333333333,
              "#9c179e"
             ],
             [
              0.4444444444444444,
              "#bd3786"
             ],
             [
              0.5555555555555556,
              "#d8576b"
             ],
             [
              0.6666666666666666,
              "#ed7953"
             ],
             [
              0.7777777777777778,
              "#fb9f3a"
             ],
             [
              0.8888888888888888,
              "#fdca26"
             ],
             [
              1,
              "#f0f921"
             ]
            ],
            "type": "surface"
           }
          ],
          "table": [
           {
            "cells": {
             "fill": {
              "color": "#EBF0F8"
             },
             "line": {
              "color": "white"
             }
            },
            "header": {
             "fill": {
              "color": "#C8D4E3"
             },
             "line": {
              "color": "white"
             }
            },
            "type": "table"
           }
          ]
         },
         "layout": {
          "annotationdefaults": {
           "arrowcolor": "#2a3f5f",
           "arrowhead": 0,
           "arrowwidth": 1
          },
          "coloraxis": {
           "colorbar": {
            "outlinewidth": 0,
            "ticks": ""
           }
          },
          "colorscale": {
           "diverging": [
            [
             0,
             "#8e0152"
            ],
            [
             0.1,
             "#c51b7d"
            ],
            [
             0.2,
             "#de77ae"
            ],
            [
             0.3,
             "#f1b6da"
            ],
            [
             0.4,
             "#fde0ef"
            ],
            [
             0.5,
             "#f7f7f7"
            ],
            [
             0.6,
             "#e6f5d0"
            ],
            [
             0.7,
             "#b8e186"
            ],
            [
             0.8,
             "#7fbc41"
            ],
            [
             0.9,
             "#4d9221"
            ],
            [
             1,
             "#276419"
            ]
           ],
           "sequential": [
            [
             0,
             "#0d0887"
            ],
            [
             0.1111111111111111,
             "#46039f"
            ],
            [
             0.2222222222222222,
             "#7201a8"
            ],
            [
             0.3333333333333333,
             "#9c179e"
            ],
            [
             0.4444444444444444,
             "#bd3786"
            ],
            [
             0.5555555555555556,
             "#d8576b"
            ],
            [
             0.6666666666666666,
             "#ed7953"
            ],
            [
             0.7777777777777778,
             "#fb9f3a"
            ],
            [
             0.8888888888888888,
             "#fdca26"
            ],
            [
             1,
             "#f0f921"
            ]
           ],
           "sequentialminus": [
            [
             0,
             "#0d0887"
            ],
            [
             0.1111111111111111,
             "#46039f"
            ],
            [
             0.2222222222222222,
             "#7201a8"
            ],
            [
             0.3333333333333333,
             "#9c179e"
            ],
            [
             0.4444444444444444,
             "#bd3786"
            ],
            [
             0.5555555555555556,
             "#d8576b"
            ],
            [
             0.6666666666666666,
             "#ed7953"
            ],
            [
             0.7777777777777778,
             "#fb9f3a"
            ],
            [
             0.8888888888888888,
             "#fdca26"
            ],
            [
             1,
             "#f0f921"
            ]
           ]
          },
          "colorway": [
           "#636efa",
           "#EF553B",
           "#00cc96",
           "#ab63fa",
           "#FFA15A",
           "#19d3f3",
           "#FF6692",
           "#B6E880",
           "#FF97FF",
           "#FECB52"
          ],
          "font": {
           "color": "#2a3f5f"
          },
          "geo": {
           "bgcolor": "white",
           "lakecolor": "white",
           "landcolor": "#E5ECF6",
           "showlakes": true,
           "showland": true,
           "subunitcolor": "white"
          },
          "hoverlabel": {
           "align": "left"
          },
          "hovermode": "closest",
          "mapbox": {
           "style": "light"
          },
          "paper_bgcolor": "white",
          "plot_bgcolor": "#E5ECF6",
          "polar": {
           "angularaxis": {
            "gridcolor": "white",
            "linecolor": "white",
            "ticks": ""
           },
           "bgcolor": "#E5ECF6",
           "radialaxis": {
            "gridcolor": "white",
            "linecolor": "white",
            "ticks": ""
           }
          },
          "scene": {
           "xaxis": {
            "backgroundcolor": "#E5ECF6",
            "gridcolor": "white",
            "gridwidth": 2,
            "linecolor": "white",
            "showbackground": true,
            "ticks": "",
            "zerolinecolor": "white"
           },
           "yaxis": {
            "backgroundcolor": "#E5ECF6",
            "gridcolor": "white",
            "gridwidth": 2,
            "linecolor": "white",
            "showbackground": true,
            "ticks": "",
            "zerolinecolor": "white"
           },
           "zaxis": {
            "backgroundcolor": "#E5ECF6",
            "gridcolor": "white",
            "gridwidth": 2,
            "linecolor": "white",
            "showbackground": true,
            "ticks": "",
            "zerolinecolor": "white"
           }
          },
          "shapedefaults": {
           "line": {
            "color": "#2a3f5f"
           }
          },
          "ternary": {
           "aaxis": {
            "gridcolor": "white",
            "linecolor": "white",
            "ticks": ""
           },
           "baxis": {
            "gridcolor": "white",
            "linecolor": "white",
            "ticks": ""
           },
           "bgcolor": "#E5ECF6",
           "caxis": {
            "gridcolor": "white",
            "linecolor": "white",
            "ticks": ""
           }
          },
          "title": {
           "x": 0.05
          },
          "xaxis": {
           "automargin": true,
           "gridcolor": "white",
           "linecolor": "white",
           "ticks": "",
           "title": {
            "standoff": 15
           },
           "zerolinecolor": "white",
           "zerolinewidth": 2
          },
          "yaxis": {
           "automargin": true,
           "gridcolor": "white",
           "linecolor": "white",
           "ticks": "",
           "title": {
            "standoff": 15
           },
           "zerolinecolor": "white",
           "zerolinewidth": 2
          }
         }
        },
        "title": {
         "text": "Сравнение аналитических решений и коммерческих симуляторов"
        },
        "xaxis": {
         "tickformat": "%d.%m.%y",
         "title": {
          "text": "Дата"
         }
        },
        "yaxis": {
         "title": {
          "text": "Qж, м3/сут"
         }
        }
       }
      },
      "text/html": [
       "<div>                            <div id=\"3e8edcad-5561-4ef5-8007-5cd0401cf6bc\" class=\"plotly-graph-div\" style=\"height:525px; width:100%;\"></div>            <script type=\"text/javascript\">                require([\"plotly\"], function(Plotly) {                    window.PLOTLYENV=window.PLOTLYENV || {};                                    if (document.getElementById(\"3e8edcad-5561-4ef5-8007-5cd0401cf6bc\")) {                    Plotly.newPlot(                        \"3e8edcad-5561-4ef5-8007-5cd0401cf6bc\",                        [{\"mode\": \"lines\", \"name\": \"OPM\", \"type\": \"scatter\", \"x\": [\"2020-01-02T00:00:00\", \"2020-01-04T00:27:53\", \"2020-01-06T00:00:00\", \"2020-01-11T00:00:00\", \"2020-01-16T00:00:00\", \"2020-01-21T00:00:00\", \"2020-01-26T00:00:00\", \"2020-01-31T00:00:00\", \"2020-02-05T00:00:00\", \"2020-02-10T00:00:00\", \"2020-02-15T00:00:00\", \"2020-02-20T00:00:00\", \"2020-02-25T00:00:00\", \"2020-03-01T00:00:00\"], \"y\": [4154.32275390625, 3060.063232421875, 2728.43603515625, 2382.885986328125, 2148.6943359375, 1955.05322265625, 1783.4813232421875, 1627.956787109375, 1485.9300537109375, 1355.9464111328125, 1236.9210205078125, 1127.9595947265625, 1028.2801513671877, 937.0891723632812]}, {\"mode\": \"lines\", \"name\": \"\\u0411\\u0430\\u0442\\u043b\\u0435\\u0440 - \\u043f\\u0441\\u0435\\u0432\\u0434\\u043e\\u0443\\u0441\\u0442. (147\\u0441.)\", \"type\": \"scatter\", \"x\": [\"2020-01-02T00:00:00\", \"2020-01-04T00:27:53\", \"2020-01-06T00:00:00\", \"2020-01-11T00:00:00\", \"2020-01-16T00:00:00\", \"2020-01-21T00:00:00\", \"2020-01-26T00:00:00\", \"2020-01-31T00:00:00\", \"2020-02-05T00:00:00\", \"2020-02-10T00:00:00\", \"2020-02-15T00:00:00\", \"2020-02-20T00:00:00\", \"2020-02-25T00:00:00\", \"2020-03-01T00:00:00\"], \"y\": [4715.355283577357, 4513.545478610472, 4337.243832191105, 3948.1763934061196, 3597.2253013864747, 3277.766979077986, 2986.2298656936327, 2720.0211632267014, 2476.955583708575, 2255.0903753564353, 2052.65145368422, 1867.9890801691338, 1699.618490140669, 1546.134327984074]}, {\"mode\": \"lines\", \"name\": \"\\u0411\\u0430\\u0442\\u043b\\u0435\\u0440 - \\u043d\\u0435\\u0443\\u0441\\u0442. \\u0441 \\u0443\\u0447\\u0435\\u0442. \\u0432\\u0435\\u0440\\u0442. \\u0441\\u0445\\u043e\\u0436\\u0434.\", \"type\": \"scatter\", \"x\": [\"2020-01-02T00:00:00\", \"2020-01-04T00:27:53\", \"2020-01-06T00:00:00\", \"2020-01-11T00:00:00\", \"2020-01-16T00:00:00\", \"2020-01-21T00:00:00\", \"2020-01-26T00:00:00\", \"2020-01-31T00:00:00\", \"2020-02-05T00:00:00\", \"2020-02-10T00:00:00\", \"2020-02-15T00:00:00\", \"2020-02-20T00:00:00\", \"2020-02-25T00:00:00\", \"2020-03-01T00:00:00\"], \"y\": [7954.262065328821, 7613.832133855735, 7316.4315322398415, 6660.119508422584, 6068.105377958222, 5529.215928112951, 5037.426346592951, 4588.362881350378, 4178.33920290522, 3804.078112429586, 3462.586933427324, 3151.0827467416775, 2867.0609251315777, 2608.1507953004348]}, {\"mode\": \"lines\", \"name\": \"HWP (Ozkan)\", \"type\": \"scatter\", \"x\": [\"2020-01-02T00:00:00\", \"2020-01-04T00:27:53\", \"2020-01-06T00:00:00\", \"2020-01-11T00:00:00\", \"2020-01-16T00:00:00\", \"2020-01-21T00:00:00\", \"2020-01-26T00:00:00\", \"2020-01-31T00:00:00\", \"2020-02-05T00:00:00\", \"2020-02-10T00:00:00\", \"2020-02-15T00:00:00\", \"2020-02-20T00:00:00\", \"2020-02-25T00:00:00\", \"2020-03-01T00:00:00\"], \"y\": [6348.93, 6077.2, 5839.82, 5315.97, 4843.44, 4413.31, 4020.77, 3662.34, 3335.06, 3036.34, 2763.77, 2515.13, 2288.43, 2081.77]}, {\"mode\": \"lines\", \"name\": \"HWP (Joshi)\", \"type\": \"scatter\", \"x\": [\"2020-01-02T00:00:00\", \"2020-01-04T00:27:53\", \"2020-01-06T00:00:00\", \"2020-01-11T00:00:00\", \"2020-01-16T00:00:00\", \"2020-01-21T00:00:00\", \"2020-01-26T00:00:00\", \"2020-01-31T00:00:00\", \"2020-02-05T00:00:00\", \"2020-02-10T00:00:00\", \"2020-02-15T00:00:00\", \"2020-02-20T00:00:00\", \"2020-02-25T00:00:00\", \"2020-03-01T00:00:00\"], \"y\": [6137.3, 5874.63, 5645.16, 5138.77, 4681.99, 4266.2, 3886.74, 3540.26, 3223.9, 2935.13, 2671.64, 2431.29, 2212.15, 2012.38]}, {\"mode\": \"lines\", \"name\": \"\\u041c\\u0435\\u0442\\u043e\\u0434 \\u0438\\u0441\\u0442\\u043e\\u0447\\u043d\\u0438\\u043a\\u043e\\u0432\", \"type\": \"scatter\", \"x\": [\"2020-01-02T00:00:00\", \"2020-01-04T00:27:53\", \"2020-01-06T00:00:00\", \"2020-01-11T00:00:00\", \"2020-01-16T00:00:00\", \"2020-01-21T00:00:00\", \"2020-01-26T00:00:00\", \"2020-01-31T00:00:00\", \"2020-02-05T00:00:00\", \"2020-02-10T00:00:00\", \"2020-02-15T00:00:00\", \"2020-02-20T00:00:00\", \"2020-02-25T00:00:00\", \"2020-03-01T00:00:00\"], \"y\": [6048.89, 5790.01, 5563.85, 5064.75, 4614.55, 4204.74, 3830.76, 3489.26, 3177.46, 2892.85, 2633.16, 2396.27, 2180.28, 1983.39]}],                        {\"template\": {\"data\": {\"bar\": [{\"error_x\": {\"color\": \"#2a3f5f\"}, \"error_y\": {\"color\": \"#2a3f5f\"}, \"marker\": {\"line\": {\"color\": \"#E5ECF6\", \"width\": 0.5}}, \"type\": \"bar\"}], \"barpolar\": [{\"marker\": {\"line\": {\"color\": \"#E5ECF6\", \"width\": 0.5}}, \"type\": \"barpolar\"}], \"carpet\": [{\"aaxis\": {\"endlinecolor\": \"#2a3f5f\", \"gridcolor\": \"white\", \"linecolor\": \"white\", \"minorgridcolor\": \"white\", \"startlinecolor\": \"#2a3f5f\"}, \"baxis\": {\"endlinecolor\": \"#2a3f5f\", \"gridcolor\": \"white\", \"linecolor\": \"white\", \"minorgridcolor\": \"white\", \"startlinecolor\": \"#2a3f5f\"}, \"type\": \"carpet\"}], \"choropleth\": [{\"colorbar\": {\"outlinewidth\": 0, \"ticks\": \"\"}, \"type\": \"choropleth\"}], \"contour\": [{\"colorbar\": {\"outlinewidth\": 0, \"ticks\": \"\"}, \"colorscale\": [[0.0, \"#0d0887\"], [0.1111111111111111, \"#46039f\"], [0.2222222222222222, \"#7201a8\"], [0.3333333333333333, \"#9c179e\"], [0.4444444444444444, \"#bd3786\"], [0.5555555555555556, \"#d8576b\"], [0.6666666666666666, \"#ed7953\"], [0.7777777777777778, \"#fb9f3a\"], [0.8888888888888888, \"#fdca26\"], [1.0, \"#f0f921\"]], \"type\": \"contour\"}], \"contourcarpet\": [{\"colorbar\": {\"outlinewidth\": 0, \"ticks\": \"\"}, \"type\": \"contourcarpet\"}], \"heatmap\": [{\"colorbar\": {\"outlinewidth\": 0, \"ticks\": \"\"}, \"colorscale\": [[0.0, \"#0d0887\"], [0.1111111111111111, \"#46039f\"], [0.2222222222222222, \"#7201a8\"], [0.3333333333333333, \"#9c179e\"], [0.4444444444444444, \"#bd3786\"], [0.5555555555555556, \"#d8576b\"], [0.6666666666666666, \"#ed7953\"], [0.7777777777777778, \"#fb9f3a\"], [0.8888888888888888, \"#fdca26\"], [1.0, \"#f0f921\"]], \"type\": \"heatmap\"}], \"heatmapgl\": [{\"colorbar\": {\"outlinewidth\": 0, \"ticks\": \"\"}, \"colorscale\": [[0.0, \"#0d0887\"], [0.1111111111111111, \"#46039f\"], [0.2222222222222222, \"#7201a8\"], [0.3333333333333333, \"#9c179e\"], [0.4444444444444444, \"#bd3786\"], [0.5555555555555556, \"#d8576b\"], [0.6666666666666666, \"#ed7953\"], [0.7777777777777778, \"#fb9f3a\"], [0.8888888888888888, \"#fdca26\"], [1.0, \"#f0f921\"]], \"type\": \"heatmapgl\"}], \"histogram\": [{\"marker\": {\"colorbar\": {\"outlinewidth\": 0, \"ticks\": \"\"}}, \"type\": \"histogram\"}], \"histogram2d\": [{\"colorbar\": {\"outlinewidth\": 0, \"ticks\": \"\"}, \"colorscale\": [[0.0, \"#0d0887\"], [0.1111111111111111, \"#46039f\"], [0.2222222222222222, \"#7201a8\"], [0.3333333333333333, \"#9c179e\"], [0.4444444444444444, \"#bd3786\"], [0.5555555555555556, \"#d8576b\"], [0.6666666666666666, \"#ed7953\"], [0.7777777777777778, \"#fb9f3a\"], [0.8888888888888888, \"#fdca26\"], [1.0, \"#f0f921\"]], \"type\": \"histogram2d\"}], \"histogram2dcontour\": [{\"colorbar\": {\"outlinewidth\": 0, \"ticks\": \"\"}, \"colorscale\": [[0.0, \"#0d0887\"], [0.1111111111111111, \"#46039f\"], [0.2222222222222222, \"#7201a8\"], [0.3333333333333333, \"#9c179e\"], [0.4444444444444444, \"#bd3786\"], [0.5555555555555556, \"#d8576b\"], [0.6666666666666666, \"#ed7953\"], [0.7777777777777778, \"#fb9f3a\"], [0.8888888888888888, \"#fdca26\"], [1.0, \"#f0f921\"]], \"type\": \"histogram2dcontour\"}], \"mesh3d\": [{\"colorbar\": {\"outlinewidth\": 0, \"ticks\": \"\"}, \"type\": \"mesh3d\"}], \"parcoords\": [{\"line\": {\"colorbar\": {\"outlinewidth\": 0, \"ticks\": \"\"}}, \"type\": \"parcoords\"}], \"pie\": [{\"automargin\": true, \"type\": \"pie\"}], \"scatter\": [{\"marker\": {\"colorbar\": {\"outlinewidth\": 0, \"ticks\": \"\"}}, \"type\": \"scatter\"}], \"scatter3d\": [{\"line\": {\"colorbar\": {\"outlinewidth\": 0, \"ticks\": \"\"}}, \"marker\": {\"colorbar\": {\"outlinewidth\": 0, \"ticks\": \"\"}}, \"type\": \"scatter3d\"}], \"scattercarpet\": [{\"marker\": {\"colorbar\": {\"outlinewidth\": 0, \"ticks\": \"\"}}, \"type\": \"scattercarpet\"}], \"scattergeo\": [{\"marker\": {\"colorbar\": {\"outlinewidth\": 0, \"ticks\": \"\"}}, \"type\": \"scattergeo\"}], \"scattergl\": [{\"marker\": {\"colorbar\": {\"outlinewidth\": 0, \"ticks\": \"\"}}, \"type\": \"scattergl\"}], \"scattermapbox\": [{\"marker\": {\"colorbar\": {\"outlinewidth\": 0, \"ticks\": \"\"}}, \"type\": \"scattermapbox\"}], \"scatterpolar\": [{\"marker\": {\"colorbar\": {\"outlinewidth\": 0, \"ticks\": \"\"}}, \"type\": \"scatterpolar\"}], \"scatterpolargl\": [{\"marker\": {\"colorbar\": {\"outlinewidth\": 0, \"ticks\": \"\"}}, \"type\": \"scatterpolargl\"}], \"scatterternary\": [{\"marker\": {\"colorbar\": {\"outlinewidth\": 0, \"ticks\": \"\"}}, \"type\": \"scatterternary\"}], \"surface\": [{\"colorbar\": {\"outlinewidth\": 0, \"ticks\": \"\"}, \"colorscale\": [[0.0, \"#0d0887\"], [0.1111111111111111, \"#46039f\"], [0.2222222222222222, \"#7201a8\"], [0.3333333333333333, \"#9c179e\"], [0.4444444444444444, \"#bd3786\"], [0.5555555555555556, \"#d8576b\"], [0.6666666666666666, \"#ed7953\"], [0.7777777777777778, \"#fb9f3a\"], [0.8888888888888888, \"#fdca26\"], [1.0, \"#f0f921\"]], \"type\": \"surface\"}], \"table\": [{\"cells\": {\"fill\": {\"color\": \"#EBF0F8\"}, \"line\": {\"color\": \"white\"}}, \"header\": {\"fill\": {\"color\": \"#C8D4E3\"}, \"line\": {\"color\": \"white\"}}, \"type\": \"table\"}]}, \"layout\": {\"annotationdefaults\": {\"arrowcolor\": \"#2a3f5f\", \"arrowhead\": 0, \"arrowwidth\": 1}, \"coloraxis\": {\"colorbar\": {\"outlinewidth\": 0, \"ticks\": \"\"}}, \"colorscale\": {\"diverging\": [[0, \"#8e0152\"], [0.1, \"#c51b7d\"], [0.2, \"#de77ae\"], [0.3, \"#f1b6da\"], [0.4, \"#fde0ef\"], [0.5, \"#f7f7f7\"], [0.6, \"#e6f5d0\"], [0.7, \"#b8e186\"], [0.8, \"#7fbc41\"], [0.9, \"#4d9221\"], [1, \"#276419\"]], \"sequential\": [[0.0, \"#0d0887\"], [0.1111111111111111, \"#46039f\"], [0.2222222222222222, \"#7201a8\"], [0.3333333333333333, \"#9c179e\"], [0.4444444444444444, \"#bd3786\"], [0.5555555555555556, \"#d8576b\"], [0.6666666666666666, \"#ed7953\"], [0.7777777777777778, \"#fb9f3a\"], [0.8888888888888888, \"#fdca26\"], [1.0, \"#f0f921\"]], \"sequentialminus\": [[0.0, \"#0d0887\"], [0.1111111111111111, \"#46039f\"], [0.2222222222222222, \"#7201a8\"], [0.3333333333333333, \"#9c179e\"], [0.4444444444444444, \"#bd3786\"], [0.5555555555555556, \"#d8576b\"], [0.6666666666666666, \"#ed7953\"], [0.7777777777777778, \"#fb9f3a\"], [0.8888888888888888, \"#fdca26\"], [1.0, \"#f0f921\"]]}, \"colorway\": [\"#636efa\", \"#EF553B\", \"#00cc96\", \"#ab63fa\", \"#FFA15A\", \"#19d3f3\", \"#FF6692\", \"#B6E880\", \"#FF97FF\", \"#FECB52\"], \"font\": {\"color\": \"#2a3f5f\"}, \"geo\": {\"bgcolor\": \"white\", \"lakecolor\": \"white\", \"landcolor\": \"#E5ECF6\", \"showlakes\": true, \"showland\": true, \"subunitcolor\": \"white\"}, \"hoverlabel\": {\"align\": \"left\"}, \"hovermode\": \"closest\", \"mapbox\": {\"style\": \"light\"}, \"paper_bgcolor\": \"white\", \"plot_bgcolor\": \"#E5ECF6\", \"polar\": {\"angularaxis\": {\"gridcolor\": \"white\", \"linecolor\": \"white\", \"ticks\": \"\"}, \"bgcolor\": \"#E5ECF6\", \"radialaxis\": {\"gridcolor\": \"white\", \"linecolor\": \"white\", \"ticks\": \"\"}}, \"scene\": {\"xaxis\": {\"backgroundcolor\": \"#E5ECF6\", \"gridcolor\": \"white\", \"gridwidth\": 2, \"linecolor\": \"white\", \"showbackground\": true, \"ticks\": \"\", \"zerolinecolor\": \"white\"}, \"yaxis\": {\"backgroundcolor\": \"#E5ECF6\", \"gridcolor\": \"white\", \"gridwidth\": 2, \"linecolor\": \"white\", \"showbackground\": true, \"ticks\": \"\", \"zerolinecolor\": \"white\"}, \"zaxis\": {\"backgroundcolor\": \"#E5ECF6\", \"gridcolor\": \"white\", \"gridwidth\": 2, \"linecolor\": \"white\", \"showbackground\": true, \"ticks\": \"\", \"zerolinecolor\": \"white\"}}, \"shapedefaults\": {\"line\": {\"color\": \"#2a3f5f\"}}, \"ternary\": {\"aaxis\": {\"gridcolor\": \"white\", \"linecolor\": \"white\", \"ticks\": \"\"}, \"baxis\": {\"gridcolor\": \"white\", \"linecolor\": \"white\", \"ticks\": \"\"}, \"bgcolor\": \"#E5ECF6\", \"caxis\": {\"gridcolor\": \"white\", \"linecolor\": \"white\", \"ticks\": \"\"}}, \"title\": {\"x\": 0.05}, \"xaxis\": {\"automargin\": true, \"gridcolor\": \"white\", \"linecolor\": \"white\", \"ticks\": \"\", \"title\": {\"standoff\": 15}, \"zerolinecolor\": \"white\", \"zerolinewidth\": 2}, \"yaxis\": {\"automargin\": true, \"gridcolor\": \"white\", \"linecolor\": \"white\", \"ticks\": \"\", \"title\": {\"standoff\": 15}, \"zerolinecolor\": \"white\", \"zerolinewidth\": 2}}}, \"title\": {\"text\": \"\\u0421\\u0440\\u0430\\u0432\\u043d\\u0435\\u043d\\u0438\\u0435 \\u0430\\u043d\\u0430\\u043b\\u0438\\u0442\\u0438\\u0447\\u0435\\u0441\\u043a\\u0438\\u0445 \\u0440\\u0435\\u0448\\u0435\\u043d\\u0438\\u0439 \\u0438 \\u043a\\u043e\\u043c\\u043c\\u0435\\u0440\\u0447\\u0435\\u0441\\u043a\\u0438\\u0445 \\u0441\\u0438\\u043c\\u0443\\u043b\\u044f\\u0442\\u043e\\u0440\\u043e\\u0432\"}, \"xaxis\": {\"tickformat\": \"%d.%m.%y\", \"title\": {\"text\": \"\\u0414\\u0430\\u0442\\u0430\"}}, \"yaxis\": {\"title\": {\"text\": \"Q\\u0436, \\u043c3/\\u0441\\u0443\\u0442\"}}},                        {\"responsive\": true}                    ).then(function(){\n",
       "                            \n",
       "var gd = document.getElementById('3e8edcad-5561-4ef5-8007-5cd0401cf6bc');\n",
       "var x = new MutationObserver(function (mutations, observer) {{\n",
       "        var display = window.getComputedStyle(gd).display;\n",
       "        if (!display || display === 'none') {{\n",
       "            console.log([gd, 'removed!']);\n",
       "            Plotly.purge(gd);\n",
       "            observer.disconnect();\n",
       "        }}\n",
       "}});\n",
       "\n",
       "// Listen for the removal of the full notebook cells\n",
       "var notebookContainer = gd.closest('#notebook-container');\n",
       "if (notebookContainer) {{\n",
       "    x.observe(notebookContainer, {childList: true});\n",
       "}}\n",
       "\n",
       "// Listen for the clearing of the current output cell\n",
       "var outputEl = gd.closest('.output');\n",
       "if (outputEl) {{\n",
       "    x.observe(outputEl, {childList: true});\n",
       "}}\n",
       "\n",
       "                        })                };                });            </script>        </div>"
      ]
     },
     "metadata": {},
     "output_type": "display_data"
    }
   ],
   "source": [
    "# без газовой шапки и подстилающей воды \n",
    "filename = 'TEST_MODEL_HORIZONTAL.0'\n",
    "rw = rw # радиус скважины, м\n",
    "kh = permx # горизонтальная проницаемость, мд\n",
    "h = nz*dz # мощность пласта, м\n",
    "kk = permz/permx # коэффициент анизотропии проницаемости\n",
    "L = (y_stop[0]-prod_ys[0])*cells_v # длина горизонтального учатска, м\n",
    "zw = h-prod_z2s[0] # расстояние от подошвы пласта до ствола, м\n",
    "re = lx/2 # радиус контура питания, м\n",
    "mu = 0.5 # вязкость жидкости, сП\n",
    "B = 1.2 # Объемный коэффициент\n",
    "figure = figure_plot(filename, rw, kh, h, kk, L, zw, re, mu, B, lx, ly, skin[0], start_date)\n",
    "\n",
    "iplot(figure)"
   ]
  },
  {
   "cell_type": "code",
   "execution_count": 90,
   "metadata": {},
   "outputs": [
    {
     "data": {
      "application/vnd.plotly.v1+json": {
       "config": {
        "linkText": "Export to plot.ly",
        "plotlyServerURL": "https://plot.ly",
        "showLink": false
       },
       "data": [
        {
         "mode": "lines",
         "name": "OPM",
         "type": "scatter",
         "x": [
          "2020-01-02T00:00:00",
          "2020-01-04T00:00:00",
          "2020-01-06T00:00:00",
          "2020-01-11T00:00:00",
          "2020-01-16T00:00:00",
          "2020-01-21T00:00:00",
          "2020-01-26T00:00:00",
          "2020-01-31T00:00:00",
          "2020-02-05T00:00:00",
          "2020-02-10T00:00:00",
          "2020-02-15T00:00:00",
          "2020-02-20T00:00:00",
          "2020-02-25T00:00:00",
          "2020-03-01T00:00:00"
         ],
         "y": [
          970.8448486328124,
          578.329345703125,
          448.2763671875,
          355.4028625488281,
          316.6335144042969,
          294.66180419921875,
          280.76998901367193,
          271.12826538085943,
          264.0843505859375,
          258.6771850585937,
          254.44435119628903,
          251.0171203613281,
          248.20188903808597,
          245.89108276367188
         ]
        },
        {
         "mode": "lines",
         "name": "Батлер - псевдоуст. (147с.)",
         "type": "scatter",
         "x": [
          "2020-01-02T00:00:00",
          "2020-01-04T00:00:00",
          "2020-01-06T00:00:00",
          "2020-01-11T00:00:00",
          "2020-01-16T00:00:00",
          "2020-01-21T00:00:00",
          "2020-01-26T00:00:00",
          "2020-01-31T00:00:00",
          "2020-02-05T00:00:00",
          "2020-02-10T00:00:00",
          "2020-02-15T00:00:00",
          "2020-02-20T00:00:00",
          "2020-02-25T00:00:00",
          "2020-03-01T00:00:00"
         ],
         "y": [
          4840.737873605648,
          4838.515651192487,
          4836.284810742267,
          4831.376223062894,
          4826.876376569763,
          4822.664618744045,
          4818.656000363298,
          4814.798813205164,
          4811.0647408621635,
          4807.432853815725,
          4803.885915991728,
          4800.415309353114,
          4797.008722418369,
          4793.6612305948875
         ]
        },
        {
         "mode": "lines",
         "name": "Батлер - неуст. с учет. верт. схожд.",
         "type": "scatter",
         "x": [
          "2020-01-02T00:00:00",
          "2020-01-04T00:00:00",
          "2020-01-06T00:00:00",
          "2020-01-11T00:00:00",
          "2020-01-16T00:00:00",
          "2020-01-21T00:00:00",
          "2020-01-26T00:00:00",
          "2020-01-31T00:00:00",
          "2020-02-05T00:00:00",
          "2020-02-10T00:00:00",
          "2020-02-15T00:00:00",
          "2020-02-20T00:00:00",
          "2020-02-25T00:00:00",
          "2020-03-01T00:00:00"
         ],
         "y": [
          8165.76807485226,
          8162.019441212016,
          8158.256269934385,
          8149.976047040393,
          8142.385323519565,
          8135.280572448496,
          8128.518494258671,
          8122.011863125769,
          8115.712912526953,
          8109.586336771428,
          8103.603060584423,
          8097.74854632855,
          8092.002025950403,
          8086.355192228615
         ]
        },
        {
         "mode": "lines",
         "name": "HWP (Ozkan)",
         "type": "scatter",
         "x": [
          "2020-01-02T00:00:00",
          "2020-01-04T00:00:00",
          "2020-01-06T00:00:00",
          "2020-01-11T00:00:00",
          "2020-01-16T00:00:00",
          "2020-01-21T00:00:00",
          "2020-01-26T00:00:00",
          "2020-01-31T00:00:00",
          "2020-02-05T00:00:00",
          "2020-02-10T00:00:00",
          "2020-02-15T00:00:00",
          "2020-02-20T00:00:00",
          "2020-02-25T00:00:00",
          "2020-03-01T00:00:00"
         ],
         "y": [
          6517.75,
          6514.76,
          6511.75,
          6505.14,
          6499.08,
          6493.41,
          6488.02,
          6482.82,
          6477.79,
          6472.9,
          6468.13,
          6463.46,
          6458.87,
          6454.36
         ]
        },
        {
         "mode": "lines",
         "name": "HWP (Joshi)",
         "type": "scatter",
         "x": [
          "2020-01-02T00:00:00",
          "2020-01-04T00:00:00",
          "2020-01-06T00:00:00",
          "2020-01-11T00:00:00",
          "2020-01-16T00:00:00",
          "2020-01-21T00:00:00",
          "2020-01-26T00:00:00",
          "2020-01-31T00:00:00",
          "2020-02-05T00:00:00",
          "2020-02-10T00:00:00",
          "2020-02-15T00:00:00",
          "2020-02-20T00:00:00",
          "2020-02-25T00:00:00",
          "2020-03-01T00:00:00"
         ],
         "y": [
          6300.49,
          6297.6,
          6294.69,
          6288.3,
          6282.45,
          6276.97,
          6271.75,
          6266.73,
          6261.87,
          6257.14,
          6252.52,
          6248.01,
          6243.57,
          6239.22
         ]
        },
        {
         "mode": "lines",
         "name": "Метод источников",
         "type": "scatter",
         "x": [
          "2020-01-02T00:00:00",
          "2020-01-04T00:00:00",
          "2020-01-06T00:00:00",
          "2020-01-11T00:00:00",
          "2020-01-16T00:00:00",
          "2020-01-21T00:00:00",
          "2020-01-26T00:00:00",
          "2020-01-31T00:00:00",
          "2020-02-05T00:00:00",
          "2020-02-10T00:00:00",
          "2020-02-15T00:00:00",
          "2020-02-20T00:00:00",
          "2020-02-25T00:00:00",
          "2020-03-01T00:00:00"
         ],
         "y": [
          6209.73,
          6206.88,
          6204.02,
          6197.72,
          6191.95,
          6186.55,
          6181.41,
          6176.46,
          6171.67,
          6167.01,
          6162.46,
          6158.01,
          6153.64,
          6149.34
         ]
        }
       ],
       "layout": {
        "template": {
         "data": {
          "bar": [
           {
            "error_x": {
             "color": "#2a3f5f"
            },
            "error_y": {
             "color": "#2a3f5f"
            },
            "marker": {
             "line": {
              "color": "#E5ECF6",
              "width": 0.5
             }
            },
            "type": "bar"
           }
          ],
          "barpolar": [
           {
            "marker": {
             "line": {
              "color": "#E5ECF6",
              "width": 0.5
             }
            },
            "type": "barpolar"
           }
          ],
          "carpet": [
           {
            "aaxis": {
             "endlinecolor": "#2a3f5f",
             "gridcolor": "white",
             "linecolor": "white",
             "minorgridcolor": "white",
             "startlinecolor": "#2a3f5f"
            },
            "baxis": {
             "endlinecolor": "#2a3f5f",
             "gridcolor": "white",
             "linecolor": "white",
             "minorgridcolor": "white",
             "startlinecolor": "#2a3f5f"
            },
            "type": "carpet"
           }
          ],
          "choropleth": [
           {
            "colorbar": {
             "outlinewidth": 0,
             "ticks": ""
            },
            "type": "choropleth"
           }
          ],
          "contour": [
           {
            "colorbar": {
             "outlinewidth": 0,
             "ticks": ""
            },
            "colorscale": [
             [
              0,
              "#0d0887"
             ],
             [
              0.1111111111111111,
              "#46039f"
             ],
             [
              0.2222222222222222,
              "#7201a8"
             ],
             [
              0.3333333333333333,
              "#9c179e"
             ],
             [
              0.4444444444444444,
              "#bd3786"
             ],
             [
              0.5555555555555556,
              "#d8576b"
             ],
             [
              0.6666666666666666,
              "#ed7953"
             ],
             [
              0.7777777777777778,
              "#fb9f3a"
             ],
             [
              0.8888888888888888,
              "#fdca26"
             ],
             [
              1,
              "#f0f921"
             ]
            ],
            "type": "contour"
           }
          ],
          "contourcarpet": [
           {
            "colorbar": {
             "outlinewidth": 0,
             "ticks": ""
            },
            "type": "contourcarpet"
           }
          ],
          "heatmap": [
           {
            "colorbar": {
             "outlinewidth": 0,
             "ticks": ""
            },
            "colorscale": [
             [
              0,
              "#0d0887"
             ],
             [
              0.1111111111111111,
              "#46039f"
             ],
             [
              0.2222222222222222,
              "#7201a8"
             ],
             [
              0.3333333333333333,
              "#9c179e"
             ],
             [
              0.4444444444444444,
              "#bd3786"
             ],
             [
              0.5555555555555556,
              "#d8576b"
             ],
             [
              0.6666666666666666,
              "#ed7953"
             ],
             [
              0.7777777777777778,
              "#fb9f3a"
             ],
             [
              0.8888888888888888,
              "#fdca26"
             ],
             [
              1,
              "#f0f921"
             ]
            ],
            "type": "heatmap"
           }
          ],
          "heatmapgl": [
           {
            "colorbar": {
             "outlinewidth": 0,
             "ticks": ""
            },
            "colorscale": [
             [
              0,
              "#0d0887"
             ],
             [
              0.1111111111111111,
              "#46039f"
             ],
             [
              0.2222222222222222,
              "#7201a8"
             ],
             [
              0.3333333333333333,
              "#9c179e"
             ],
             [
              0.4444444444444444,
              "#bd3786"
             ],
             [
              0.5555555555555556,
              "#d8576b"
             ],
             [
              0.6666666666666666,
              "#ed7953"
             ],
             [
              0.7777777777777778,
              "#fb9f3a"
             ],
             [
              0.8888888888888888,
              "#fdca26"
             ],
             [
              1,
              "#f0f921"
             ]
            ],
            "type": "heatmapgl"
           }
          ],
          "histogram": [
           {
            "marker": {
             "colorbar": {
              "outlinewidth": 0,
              "ticks": ""
             }
            },
            "type": "histogram"
           }
          ],
          "histogram2d": [
           {
            "colorbar": {
             "outlinewidth": 0,
             "ticks": ""
            },
            "colorscale": [
             [
              0,
              "#0d0887"
             ],
             [
              0.1111111111111111,
              "#46039f"
             ],
             [
              0.2222222222222222,
              "#7201a8"
             ],
             [
              0.3333333333333333,
              "#9c179e"
             ],
             [
              0.4444444444444444,
              "#bd3786"
             ],
             [
              0.5555555555555556,
              "#d8576b"
             ],
             [
              0.6666666666666666,
              "#ed7953"
             ],
             [
              0.7777777777777778,
              "#fb9f3a"
             ],
             [
              0.8888888888888888,
              "#fdca26"
             ],
             [
              1,
              "#f0f921"
             ]
            ],
            "type": "histogram2d"
           }
          ],
          "histogram2dcontour": [
           {
            "colorbar": {
             "outlinewidth": 0,
             "ticks": ""
            },
            "colorscale": [
             [
              0,
              "#0d0887"
             ],
             [
              0.1111111111111111,
              "#46039f"
             ],
             [
              0.2222222222222222,
              "#7201a8"
             ],
             [
              0.3333333333333333,
              "#9c179e"
             ],
             [
              0.4444444444444444,
              "#bd3786"
             ],
             [
              0.5555555555555556,
              "#d8576b"
             ],
             [
              0.6666666666666666,
              "#ed7953"
             ],
             [
              0.7777777777777778,
              "#fb9f3a"
             ],
             [
              0.8888888888888888,
              "#fdca26"
             ],
             [
              1,
              "#f0f921"
             ]
            ],
            "type": "histogram2dcontour"
           }
          ],
          "mesh3d": [
           {
            "colorbar": {
             "outlinewidth": 0,
             "ticks": ""
            },
            "type": "mesh3d"
           }
          ],
          "parcoords": [
           {
            "line": {
             "colorbar": {
              "outlinewidth": 0,
              "ticks": ""
             }
            },
            "type": "parcoords"
           }
          ],
          "pie": [
           {
            "automargin": true,
            "type": "pie"
           }
          ],
          "scatter": [
           {
            "marker": {
             "colorbar": {
              "outlinewidth": 0,
              "ticks": ""
             }
            },
            "type": "scatter"
           }
          ],
          "scatter3d": [
           {
            "line": {
             "colorbar": {
              "outlinewidth": 0,
              "ticks": ""
             }
            },
            "marker": {
             "colorbar": {
              "outlinewidth": 0,
              "ticks": ""
             }
            },
            "type": "scatter3d"
           }
          ],
          "scattercarpet": [
           {
            "marker": {
             "colorbar": {
              "outlinewidth": 0,
              "ticks": ""
             }
            },
            "type": "scattercarpet"
           }
          ],
          "scattergeo": [
           {
            "marker": {
             "colorbar": {
              "outlinewidth": 0,
              "ticks": ""
             }
            },
            "type": "scattergeo"
           }
          ],
          "scattergl": [
           {
            "marker": {
             "colorbar": {
              "outlinewidth": 0,
              "ticks": ""
             }
            },
            "type": "scattergl"
           }
          ],
          "scattermapbox": [
           {
            "marker": {
             "colorbar": {
              "outlinewidth": 0,
              "ticks": ""
             }
            },
            "type": "scattermapbox"
           }
          ],
          "scatterpolar": [
           {
            "marker": {
             "colorbar": {
              "outlinewidth": 0,
              "ticks": ""
             }
            },
            "type": "scatterpolar"
           }
          ],
          "scatterpolargl": [
           {
            "marker": {
             "colorbar": {
              "outlinewidth": 0,
              "ticks": ""
             }
            },
            "type": "scatterpolargl"
           }
          ],
          "scatterternary": [
           {
            "marker": {
             "colorbar": {
              "outlinewidth": 0,
              "ticks": ""
             }
            },
            "type": "scatterternary"
           }
          ],
          "surface": [
           {
            "colorbar": {
             "outlinewidth": 0,
             "ticks": ""
            },
            "colorscale": [
             [
              0,
              "#0d0887"
             ],
             [
              0.1111111111111111,
              "#46039f"
             ],
             [
              0.2222222222222222,
              "#7201a8"
             ],
             [
              0.3333333333333333,
              "#9c179e"
             ],
             [
              0.4444444444444444,
              "#bd3786"
             ],
             [
              0.5555555555555556,
              "#d8576b"
             ],
             [
              0.6666666666666666,
              "#ed7953"
             ],
             [
              0.7777777777777778,
              "#fb9f3a"
             ],
             [
              0.8888888888888888,
              "#fdca26"
             ],
             [
              1,
              "#f0f921"
             ]
            ],
            "type": "surface"
           }
          ],
          "table": [
           {
            "cells": {
             "fill": {
              "color": "#EBF0F8"
             },
             "line": {
              "color": "white"
             }
            },
            "header": {
             "fill": {
              "color": "#C8D4E3"
             },
             "line": {
              "color": "white"
             }
            },
            "type": "table"
           }
          ]
         },
         "layout": {
          "annotationdefaults": {
           "arrowcolor": "#2a3f5f",
           "arrowhead": 0,
           "arrowwidth": 1
          },
          "coloraxis": {
           "colorbar": {
            "outlinewidth": 0,
            "ticks": ""
           }
          },
          "colorscale": {
           "diverging": [
            [
             0,
             "#8e0152"
            ],
            [
             0.1,
             "#c51b7d"
            ],
            [
             0.2,
             "#de77ae"
            ],
            [
             0.3,
             "#f1b6da"
            ],
            [
             0.4,
             "#fde0ef"
            ],
            [
             0.5,
             "#f7f7f7"
            ],
            [
             0.6,
             "#e6f5d0"
            ],
            [
             0.7,
             "#b8e186"
            ],
            [
             0.8,
             "#7fbc41"
            ],
            [
             0.9,
             "#4d9221"
            ],
            [
             1,
             "#276419"
            ]
           ],
           "sequential": [
            [
             0,
             "#0d0887"
            ],
            [
             0.1111111111111111,
             "#46039f"
            ],
            [
             0.2222222222222222,
             "#7201a8"
            ],
            [
             0.3333333333333333,
             "#9c179e"
            ],
            [
             0.4444444444444444,
             "#bd3786"
            ],
            [
             0.5555555555555556,
             "#d8576b"
            ],
            [
             0.6666666666666666,
             "#ed7953"
            ],
            [
             0.7777777777777778,
             "#fb9f3a"
            ],
            [
             0.8888888888888888,
             "#fdca26"
            ],
            [
             1,
             "#f0f921"
            ]
           ],
           "sequentialminus": [
            [
             0,
             "#0d0887"
            ],
            [
             0.1111111111111111,
             "#46039f"
            ],
            [
             0.2222222222222222,
             "#7201a8"
            ],
            [
             0.3333333333333333,
             "#9c179e"
            ],
            [
             0.4444444444444444,
             "#bd3786"
            ],
            [
             0.5555555555555556,
             "#d8576b"
            ],
            [
             0.6666666666666666,
             "#ed7953"
            ],
            [
             0.7777777777777778,
             "#fb9f3a"
            ],
            [
             0.8888888888888888,
             "#fdca26"
            ],
            [
             1,
             "#f0f921"
            ]
           ]
          },
          "colorway": [
           "#636efa",
           "#EF553B",
           "#00cc96",
           "#ab63fa",
           "#FFA15A",
           "#19d3f3",
           "#FF6692",
           "#B6E880",
           "#FF97FF",
           "#FECB52"
          ],
          "font": {
           "color": "#2a3f5f"
          },
          "geo": {
           "bgcolor": "white",
           "lakecolor": "white",
           "landcolor": "#E5ECF6",
           "showlakes": true,
           "showland": true,
           "subunitcolor": "white"
          },
          "hoverlabel": {
           "align": "left"
          },
          "hovermode": "closest",
          "mapbox": {
           "style": "light"
          },
          "paper_bgcolor": "white",
          "plot_bgcolor": "#E5ECF6",
          "polar": {
           "angularaxis": {
            "gridcolor": "white",
            "linecolor": "white",
            "ticks": ""
           },
           "bgcolor": "#E5ECF6",
           "radialaxis": {
            "gridcolor": "white",
            "linecolor": "white",
            "ticks": ""
           }
          },
          "scene": {
           "xaxis": {
            "backgroundcolor": "#E5ECF6",
            "gridcolor": "white",
            "gridwidth": 2,
            "linecolor": "white",
            "showbackground": true,
            "ticks": "",
            "zerolinecolor": "white"
           },
           "yaxis": {
            "backgroundcolor": "#E5ECF6",
            "gridcolor": "white",
            "gridwidth": 2,
            "linecolor": "white",
            "showbackground": true,
            "ticks": "",
            "zerolinecolor": "white"
           },
           "zaxis": {
            "backgroundcolor": "#E5ECF6",
            "gridcolor": "white",
            "gridwidth": 2,
            "linecolor": "white",
            "showbackground": true,
            "ticks": "",
            "zerolinecolor": "white"
           }
          },
          "shapedefaults": {
           "line": {
            "color": "#2a3f5f"
           }
          },
          "ternary": {
           "aaxis": {
            "gridcolor": "white",
            "linecolor": "white",
            "ticks": ""
           },
           "baxis": {
            "gridcolor": "white",
            "linecolor": "white",
            "ticks": ""
           },
           "bgcolor": "#E5ECF6",
           "caxis": {
            "gridcolor": "white",
            "linecolor": "white",
            "ticks": ""
           }
          },
          "title": {
           "x": 0.05
          },
          "xaxis": {
           "automargin": true,
           "gridcolor": "white",
           "linecolor": "white",
           "ticks": "",
           "title": {
            "standoff": 15
           },
           "zerolinecolor": "white",
           "zerolinewidth": 2
          },
          "yaxis": {
           "automargin": true,
           "gridcolor": "white",
           "linecolor": "white",
           "ticks": "",
           "title": {
            "standoff": 15
           },
           "zerolinecolor": "white",
           "zerolinewidth": 2
          }
         }
        },
        "title": {
         "text": "Сравнение аналитических решений и коммерческих симуляторов"
        },
        "xaxis": {
         "tickformat": "%d.%m.%y",
         "title": {
          "text": "Дата"
         }
        },
        "yaxis": {
         "title": {
          "text": "Qж, м3/сут"
         }
        }
       }
      },
      "text/html": [
       "<div>                            <div id=\"0f5cdc10-517e-4b93-a3cb-29a358ed6909\" class=\"plotly-graph-div\" style=\"height:525px; width:100%;\"></div>            <script type=\"text/javascript\">                require([\"plotly\"], function(Plotly) {                    window.PLOTLYENV=window.PLOTLYENV || {};                                    if (document.getElementById(\"0f5cdc10-517e-4b93-a3cb-29a358ed6909\")) {                    Plotly.newPlot(                        \"0f5cdc10-517e-4b93-a3cb-29a358ed6909\",                        [{\"mode\": \"lines\", \"name\": \"OPM\", \"type\": \"scatter\", \"x\": [\"2020-01-02T00:00:00\", \"2020-01-04T00:00:00\", \"2020-01-06T00:00:00\", \"2020-01-11T00:00:00\", \"2020-01-16T00:00:00\", \"2020-01-21T00:00:00\", \"2020-01-26T00:00:00\", \"2020-01-31T00:00:00\", \"2020-02-05T00:00:00\", \"2020-02-10T00:00:00\", \"2020-02-15T00:00:00\", \"2020-02-20T00:00:00\", \"2020-02-25T00:00:00\", \"2020-03-01T00:00:00\"], \"y\": [970.8448486328124, 578.329345703125, 448.2763671875, 355.4028625488281, 316.6335144042969, 294.66180419921875, 280.76998901367193, 271.12826538085943, 264.0843505859375, 258.6771850585937, 254.44435119628903, 251.0171203613281, 248.20188903808597, 245.89108276367188]}, {\"mode\": \"lines\", \"name\": \"\\u0411\\u0430\\u0442\\u043b\\u0435\\u0440 - \\u043f\\u0441\\u0435\\u0432\\u0434\\u043e\\u0443\\u0441\\u0442. (147\\u0441.)\", \"type\": \"scatter\", \"x\": [\"2020-01-02T00:00:00\", \"2020-01-04T00:00:00\", \"2020-01-06T00:00:00\", \"2020-01-11T00:00:00\", \"2020-01-16T00:00:00\", \"2020-01-21T00:00:00\", \"2020-01-26T00:00:00\", \"2020-01-31T00:00:00\", \"2020-02-05T00:00:00\", \"2020-02-10T00:00:00\", \"2020-02-15T00:00:00\", \"2020-02-20T00:00:00\", \"2020-02-25T00:00:00\", \"2020-03-01T00:00:00\"], \"y\": [4840.737873605648, 4838.515651192487, 4836.284810742267, 4831.376223062894, 4826.876376569763, 4822.664618744045, 4818.656000363298, 4814.798813205164, 4811.0647408621635, 4807.432853815725, 4803.885915991728, 4800.415309353114, 4797.008722418369, 4793.6612305948875]}, {\"mode\": \"lines\", \"name\": \"\\u0411\\u0430\\u0442\\u043b\\u0435\\u0440 - \\u043d\\u0435\\u0443\\u0441\\u0442. \\u0441 \\u0443\\u0447\\u0435\\u0442. \\u0432\\u0435\\u0440\\u0442. \\u0441\\u0445\\u043e\\u0436\\u0434.\", \"type\": \"scatter\", \"x\": [\"2020-01-02T00:00:00\", \"2020-01-04T00:00:00\", \"2020-01-06T00:00:00\", \"2020-01-11T00:00:00\", \"2020-01-16T00:00:00\", \"2020-01-21T00:00:00\", \"2020-01-26T00:00:00\", \"2020-01-31T00:00:00\", \"2020-02-05T00:00:00\", \"2020-02-10T00:00:00\", \"2020-02-15T00:00:00\", \"2020-02-20T00:00:00\", \"2020-02-25T00:00:00\", \"2020-03-01T00:00:00\"], \"y\": [8165.76807485226, 8162.019441212016, 8158.256269934385, 8149.976047040393, 8142.385323519565, 8135.280572448496, 8128.518494258671, 8122.011863125769, 8115.712912526953, 8109.586336771428, 8103.603060584423, 8097.74854632855, 8092.002025950403, 8086.355192228615]}, {\"mode\": \"lines\", \"name\": \"HWP (Ozkan)\", \"type\": \"scatter\", \"x\": [\"2020-01-02T00:00:00\", \"2020-01-04T00:00:00\", \"2020-01-06T00:00:00\", \"2020-01-11T00:00:00\", \"2020-01-16T00:00:00\", \"2020-01-21T00:00:00\", \"2020-01-26T00:00:00\", \"2020-01-31T00:00:00\", \"2020-02-05T00:00:00\", \"2020-02-10T00:00:00\", \"2020-02-15T00:00:00\", \"2020-02-20T00:00:00\", \"2020-02-25T00:00:00\", \"2020-03-01T00:00:00\"], \"y\": [6517.75, 6514.76, 6511.75, 6505.14, 6499.08, 6493.41, 6488.02, 6482.82, 6477.79, 6472.9, 6468.13, 6463.46, 6458.87, 6454.36]}, {\"mode\": \"lines\", \"name\": \"HWP (Joshi)\", \"type\": \"scatter\", \"x\": [\"2020-01-02T00:00:00\", \"2020-01-04T00:00:00\", \"2020-01-06T00:00:00\", \"2020-01-11T00:00:00\", \"2020-01-16T00:00:00\", \"2020-01-21T00:00:00\", \"2020-01-26T00:00:00\", \"2020-01-31T00:00:00\", \"2020-02-05T00:00:00\", \"2020-02-10T00:00:00\", \"2020-02-15T00:00:00\", \"2020-02-20T00:00:00\", \"2020-02-25T00:00:00\", \"2020-03-01T00:00:00\"], \"y\": [6300.49, 6297.6, 6294.69, 6288.3, 6282.45, 6276.97, 6271.75, 6266.73, 6261.87, 6257.14, 6252.52, 6248.01, 6243.57, 6239.22]}, {\"mode\": \"lines\", \"name\": \"\\u041c\\u0435\\u0442\\u043e\\u0434 \\u0438\\u0441\\u0442\\u043e\\u0447\\u043d\\u0438\\u043a\\u043e\\u0432\", \"type\": \"scatter\", \"x\": [\"2020-01-02T00:00:00\", \"2020-01-04T00:00:00\", \"2020-01-06T00:00:00\", \"2020-01-11T00:00:00\", \"2020-01-16T00:00:00\", \"2020-01-21T00:00:00\", \"2020-01-26T00:00:00\", \"2020-01-31T00:00:00\", \"2020-02-05T00:00:00\", \"2020-02-10T00:00:00\", \"2020-02-15T00:00:00\", \"2020-02-20T00:00:00\", \"2020-02-25T00:00:00\", \"2020-03-01T00:00:00\"], \"y\": [6209.73, 6206.88, 6204.02, 6197.72, 6191.95, 6186.55, 6181.41, 6176.46, 6171.67, 6167.01, 6162.46, 6158.01, 6153.64, 6149.34]}],                        {\"template\": {\"data\": {\"bar\": [{\"error_x\": {\"color\": \"#2a3f5f\"}, \"error_y\": {\"color\": \"#2a3f5f\"}, \"marker\": {\"line\": {\"color\": \"#E5ECF6\", \"width\": 0.5}}, \"type\": \"bar\"}], \"barpolar\": [{\"marker\": {\"line\": {\"color\": \"#E5ECF6\", \"width\": 0.5}}, \"type\": \"barpolar\"}], \"carpet\": [{\"aaxis\": {\"endlinecolor\": \"#2a3f5f\", \"gridcolor\": \"white\", \"linecolor\": \"white\", \"minorgridcolor\": \"white\", \"startlinecolor\": \"#2a3f5f\"}, \"baxis\": {\"endlinecolor\": \"#2a3f5f\", \"gridcolor\": \"white\", \"linecolor\": \"white\", \"minorgridcolor\": \"white\", \"startlinecolor\": \"#2a3f5f\"}, \"type\": \"carpet\"}], \"choropleth\": [{\"colorbar\": {\"outlinewidth\": 0, \"ticks\": \"\"}, \"type\": \"choropleth\"}], \"contour\": [{\"colorbar\": {\"outlinewidth\": 0, \"ticks\": \"\"}, \"colorscale\": [[0.0, \"#0d0887\"], [0.1111111111111111, \"#46039f\"], [0.2222222222222222, \"#7201a8\"], [0.3333333333333333, \"#9c179e\"], [0.4444444444444444, \"#bd3786\"], [0.5555555555555556, \"#d8576b\"], [0.6666666666666666, \"#ed7953\"], [0.7777777777777778, \"#fb9f3a\"], [0.8888888888888888, \"#fdca26\"], [1.0, \"#f0f921\"]], \"type\": \"contour\"}], \"contourcarpet\": [{\"colorbar\": {\"outlinewidth\": 0, \"ticks\": \"\"}, \"type\": \"contourcarpet\"}], \"heatmap\": [{\"colorbar\": {\"outlinewidth\": 0, \"ticks\": \"\"}, \"colorscale\": [[0.0, \"#0d0887\"], [0.1111111111111111, \"#46039f\"], [0.2222222222222222, \"#7201a8\"], [0.3333333333333333, \"#9c179e\"], [0.4444444444444444, \"#bd3786\"], [0.5555555555555556, \"#d8576b\"], [0.6666666666666666, \"#ed7953\"], [0.7777777777777778, \"#fb9f3a\"], [0.8888888888888888, \"#fdca26\"], [1.0, \"#f0f921\"]], \"type\": \"heatmap\"}], \"heatmapgl\": [{\"colorbar\": {\"outlinewidth\": 0, \"ticks\": \"\"}, \"colorscale\": [[0.0, \"#0d0887\"], [0.1111111111111111, \"#46039f\"], [0.2222222222222222, \"#7201a8\"], [0.3333333333333333, \"#9c179e\"], [0.4444444444444444, \"#bd3786\"], [0.5555555555555556, \"#d8576b\"], [0.6666666666666666, \"#ed7953\"], [0.7777777777777778, \"#fb9f3a\"], [0.8888888888888888, \"#fdca26\"], [1.0, \"#f0f921\"]], \"type\": \"heatmapgl\"}], \"histogram\": [{\"marker\": {\"colorbar\": {\"outlinewidth\": 0, \"ticks\": \"\"}}, \"type\": \"histogram\"}], \"histogram2d\": [{\"colorbar\": {\"outlinewidth\": 0, \"ticks\": \"\"}, \"colorscale\": [[0.0, \"#0d0887\"], [0.1111111111111111, \"#46039f\"], [0.2222222222222222, \"#7201a8\"], [0.3333333333333333, \"#9c179e\"], [0.4444444444444444, \"#bd3786\"], [0.5555555555555556, \"#d8576b\"], [0.6666666666666666, \"#ed7953\"], [0.7777777777777778, \"#fb9f3a\"], [0.8888888888888888, \"#fdca26\"], [1.0, \"#f0f921\"]], \"type\": \"histogram2d\"}], \"histogram2dcontour\": [{\"colorbar\": {\"outlinewidth\": 0, \"ticks\": \"\"}, \"colorscale\": [[0.0, \"#0d0887\"], [0.1111111111111111, \"#46039f\"], [0.2222222222222222, \"#7201a8\"], [0.3333333333333333, \"#9c179e\"], [0.4444444444444444, \"#bd3786\"], [0.5555555555555556, \"#d8576b\"], [0.6666666666666666, \"#ed7953\"], [0.7777777777777778, \"#fb9f3a\"], [0.8888888888888888, \"#fdca26\"], [1.0, \"#f0f921\"]], \"type\": \"histogram2dcontour\"}], \"mesh3d\": [{\"colorbar\": {\"outlinewidth\": 0, \"ticks\": \"\"}, \"type\": \"mesh3d\"}], \"parcoords\": [{\"line\": {\"colorbar\": {\"outlinewidth\": 0, \"ticks\": \"\"}}, \"type\": \"parcoords\"}], \"pie\": [{\"automargin\": true, \"type\": \"pie\"}], \"scatter\": [{\"marker\": {\"colorbar\": {\"outlinewidth\": 0, \"ticks\": \"\"}}, \"type\": \"scatter\"}], \"scatter3d\": [{\"line\": {\"colorbar\": {\"outlinewidth\": 0, \"ticks\": \"\"}}, \"marker\": {\"colorbar\": {\"outlinewidth\": 0, \"ticks\": \"\"}}, \"type\": \"scatter3d\"}], \"scattercarpet\": [{\"marker\": {\"colorbar\": {\"outlinewidth\": 0, \"ticks\": \"\"}}, \"type\": \"scattercarpet\"}], \"scattergeo\": [{\"marker\": {\"colorbar\": {\"outlinewidth\": 0, \"ticks\": \"\"}}, \"type\": \"scattergeo\"}], \"scattergl\": [{\"marker\": {\"colorbar\": {\"outlinewidth\": 0, \"ticks\": \"\"}}, \"type\": \"scattergl\"}], \"scattermapbox\": [{\"marker\": {\"colorbar\": {\"outlinewidth\": 0, \"ticks\": \"\"}}, \"type\": \"scattermapbox\"}], \"scatterpolar\": [{\"marker\": {\"colorbar\": {\"outlinewidth\": 0, \"ticks\": \"\"}}, \"type\": \"scatterpolar\"}], \"scatterpolargl\": [{\"marker\": {\"colorbar\": {\"outlinewidth\": 0, \"ticks\": \"\"}}, \"type\": \"scatterpolargl\"}], \"scatterternary\": [{\"marker\": {\"colorbar\": {\"outlinewidth\": 0, \"ticks\": \"\"}}, \"type\": \"scatterternary\"}], \"surface\": [{\"colorbar\": {\"outlinewidth\": 0, \"ticks\": \"\"}, \"colorscale\": [[0.0, \"#0d0887\"], [0.1111111111111111, \"#46039f\"], [0.2222222222222222, \"#7201a8\"], [0.3333333333333333, \"#9c179e\"], [0.4444444444444444, \"#bd3786\"], [0.5555555555555556, \"#d8576b\"], [0.6666666666666666, \"#ed7953\"], [0.7777777777777778, \"#fb9f3a\"], [0.8888888888888888, \"#fdca26\"], [1.0, \"#f0f921\"]], \"type\": \"surface\"}], \"table\": [{\"cells\": {\"fill\": {\"color\": \"#EBF0F8\"}, \"line\": {\"color\": \"white\"}}, \"header\": {\"fill\": {\"color\": \"#C8D4E3\"}, \"line\": {\"color\": \"white\"}}, \"type\": \"table\"}]}, \"layout\": {\"annotationdefaults\": {\"arrowcolor\": \"#2a3f5f\", \"arrowhead\": 0, \"arrowwidth\": 1}, \"coloraxis\": {\"colorbar\": {\"outlinewidth\": 0, \"ticks\": \"\"}}, \"colorscale\": {\"diverging\": [[0, \"#8e0152\"], [0.1, \"#c51b7d\"], [0.2, \"#de77ae\"], [0.3, \"#f1b6da\"], [0.4, \"#fde0ef\"], [0.5, \"#f7f7f7\"], [0.6, \"#e6f5d0\"], [0.7, \"#b8e186\"], [0.8, \"#7fbc41\"], [0.9, \"#4d9221\"], [1, \"#276419\"]], \"sequential\": [[0.0, \"#0d0887\"], [0.1111111111111111, \"#46039f\"], [0.2222222222222222, \"#7201a8\"], [0.3333333333333333, \"#9c179e\"], [0.4444444444444444, \"#bd3786\"], [0.5555555555555556, \"#d8576b\"], [0.6666666666666666, \"#ed7953\"], [0.7777777777777778, \"#fb9f3a\"], [0.8888888888888888, \"#fdca26\"], [1.0, \"#f0f921\"]], \"sequentialminus\": [[0.0, \"#0d0887\"], [0.1111111111111111, \"#46039f\"], [0.2222222222222222, \"#7201a8\"], [0.3333333333333333, \"#9c179e\"], [0.4444444444444444, \"#bd3786\"], [0.5555555555555556, \"#d8576b\"], [0.6666666666666666, \"#ed7953\"], [0.7777777777777778, \"#fb9f3a\"], [0.8888888888888888, \"#fdca26\"], [1.0, \"#f0f921\"]]}, \"colorway\": [\"#636efa\", \"#EF553B\", \"#00cc96\", \"#ab63fa\", \"#FFA15A\", \"#19d3f3\", \"#FF6692\", \"#B6E880\", \"#FF97FF\", \"#FECB52\"], \"font\": {\"color\": \"#2a3f5f\"}, \"geo\": {\"bgcolor\": \"white\", \"lakecolor\": \"white\", \"landcolor\": \"#E5ECF6\", \"showlakes\": true, \"showland\": true, \"subunitcolor\": \"white\"}, \"hoverlabel\": {\"align\": \"left\"}, \"hovermode\": \"closest\", \"mapbox\": {\"style\": \"light\"}, \"paper_bgcolor\": \"white\", \"plot_bgcolor\": \"#E5ECF6\", \"polar\": {\"angularaxis\": {\"gridcolor\": \"white\", \"linecolor\": \"white\", \"ticks\": \"\"}, \"bgcolor\": \"#E5ECF6\", \"radialaxis\": {\"gridcolor\": \"white\", \"linecolor\": \"white\", \"ticks\": \"\"}}, \"scene\": {\"xaxis\": {\"backgroundcolor\": \"#E5ECF6\", \"gridcolor\": \"white\", \"gridwidth\": 2, \"linecolor\": \"white\", \"showbackground\": true, \"ticks\": \"\", \"zerolinecolor\": \"white\"}, \"yaxis\": {\"backgroundcolor\": \"#E5ECF6\", \"gridcolor\": \"white\", \"gridwidth\": 2, \"linecolor\": \"white\", \"showbackground\": true, \"ticks\": \"\", \"zerolinecolor\": \"white\"}, \"zaxis\": {\"backgroundcolor\": \"#E5ECF6\", \"gridcolor\": \"white\", \"gridwidth\": 2, \"linecolor\": \"white\", \"showbackground\": true, \"ticks\": \"\", \"zerolinecolor\": \"white\"}}, \"shapedefaults\": {\"line\": {\"color\": \"#2a3f5f\"}}, \"ternary\": {\"aaxis\": {\"gridcolor\": \"white\", \"linecolor\": \"white\", \"ticks\": \"\"}, \"baxis\": {\"gridcolor\": \"white\", \"linecolor\": \"white\", \"ticks\": \"\"}, \"bgcolor\": \"#E5ECF6\", \"caxis\": {\"gridcolor\": \"white\", \"linecolor\": \"white\", \"ticks\": \"\"}}, \"title\": {\"x\": 0.05}, \"xaxis\": {\"automargin\": true, \"gridcolor\": \"white\", \"linecolor\": \"white\", \"ticks\": \"\", \"title\": {\"standoff\": 15}, \"zerolinecolor\": \"white\", \"zerolinewidth\": 2}, \"yaxis\": {\"automargin\": true, \"gridcolor\": \"white\", \"linecolor\": \"white\", \"ticks\": \"\", \"title\": {\"standoff\": 15}, \"zerolinecolor\": \"white\", \"zerolinewidth\": 2}}}, \"title\": {\"text\": \"\\u0421\\u0440\\u0430\\u0432\\u043d\\u0435\\u043d\\u0438\\u0435 \\u0430\\u043d\\u0430\\u043b\\u0438\\u0442\\u0438\\u0447\\u0435\\u0441\\u043a\\u0438\\u0445 \\u0440\\u0435\\u0448\\u0435\\u043d\\u0438\\u0439 \\u0438 \\u043a\\u043e\\u043c\\u043c\\u0435\\u0440\\u0447\\u0435\\u0441\\u043a\\u0438\\u0445 \\u0441\\u0438\\u043c\\u0443\\u043b\\u044f\\u0442\\u043e\\u0440\\u043e\\u0432\"}, \"xaxis\": {\"tickformat\": \"%d.%m.%y\", \"title\": {\"text\": \"\\u0414\\u0430\\u0442\\u0430\"}}, \"yaxis\": {\"title\": {\"text\": \"Q\\u0436, \\u043c3/\\u0441\\u0443\\u0442\"}}},                        {\"responsive\": true}                    ).then(function(){\n",
       "                            \n",
       "var gd = document.getElementById('0f5cdc10-517e-4b93-a3cb-29a358ed6909');\n",
       "var x = new MutationObserver(function (mutations, observer) {{\n",
       "        var display = window.getComputedStyle(gd).display;\n",
       "        if (!display || display === 'none') {{\n",
       "            console.log([gd, 'removed!']);\n",
       "            Plotly.purge(gd);\n",
       "            observer.disconnect();\n",
       "        }}\n",
       "}});\n",
       "\n",
       "// Listen for the removal of the full notebook cells\n",
       "var notebookContainer = gd.closest('#notebook-container');\n",
       "if (notebookContainer) {{\n",
       "    x.observe(notebookContainer, {childList: true});\n",
       "}}\n",
       "\n",
       "// Listen for the clearing of the current output cell\n",
       "var outputEl = gd.closest('.output');\n",
       "if (outputEl) {{\n",
       "    x.observe(outputEl, {childList: true});\n",
       "}}\n",
       "\n",
       "                        })                };                });            </script>        </div>"
      ]
     },
     "metadata": {},
     "output_type": "display_data"
    }
   ],
   "source": [
    "filename = 'TEST_MODEL_HORIZONTAL.1'\n",
    "rw = rw # радиус скважины, м\n",
    "kh = permx # горизонтальная проницаемость, мд\n",
    "h = nz*dz # мощность пласта, м\n",
    "kk = permz/permx # коэффициент анизотропии проницаемости\n",
    "L = (y_stop[0]-prod_ys[0])*cells_v # длина горизонтального учатска, м\n",
    "zw = h-prod_z2s[0] # расстояние от подошвы пласта до ствола, м\n",
    "re = lx/2 # радиус контура питания, м\n",
    "mu = 0.5 # вязкость жидкости, сП\n",
    "B = 1.2 # Объемный коэффициент\n",
    "figure = figure_plot(filename, rw, kh, h, kk, L, zw, re, mu, B, lx, ly, skin[0], start_date)\n",
    "\n",
    "iplot(figure)"
   ]
  },
  {
   "cell_type": "code",
   "execution_count": null,
   "metadata": {},
   "outputs": [],
   "source": []
  }
 ],
 "metadata": {
  "kernelspec": {
   "display_name": "Python 3",
   "language": "python",
   "name": "python3"
  },
  "language_info": {
   "codemirror_mode": {
    "name": "ipython",
    "version": 3
   },
   "file_extension": ".py",
   "mimetype": "text/x-python",
   "name": "python",
   "nbconvert_exporter": "python",
   "pygments_lexer": "ipython3",
   "version": "3.8.3"
  }
 },
 "nbformat": 4,
 "nbformat_minor": 4
}
