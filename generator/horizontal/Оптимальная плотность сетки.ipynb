{
 "cells": [
  {
   "cell_type": "code",
   "execution_count": 1,
   "metadata": {},
   "outputs": [],
   "source": [
    "from model_create import ModelGenerator\n",
    "parameters = ['FOPT', 'WOPR:*', 'FPR', 'FWPT', 'FWCT'] #, 'FWPT', 'FLPT', 'FGPT', 'FWIT']\n",
    "\n",
    "# Зададим дату начала расчета и количество месяцев\n",
    "start_date = \"1 'JAN' 2020\"\n",
    "mounths = 12 # если days=30, в ином случае - количество степов, а days - продолжительность\n",
    "days = 5\n",
    "# Зададим размеры модели и ячеек, глубину залегания:\n",
    "# Используем функцию локального измельчения (необходимо указать lx, ly, cells_c)\n",
    "lgr = True # минимальный размер ячейки оказался 8 метров\n",
    "nz = 10\n",
    "#lx = 750 # длина модели по x\n",
    "#ly = 1500 # длина модели по y\n",
    "dz = 1\n",
    "tops_depth = 2500\n",
    "# Зададим пористость и проницаемость:\n",
    "por = 0.3\n",
    "permx = 300\n",
    "permy = permx\n",
    "permz = permx\n",
    "# Зададим название, целевой дебит и расположение добываюещей скважины:\n",
    "prod_names = ['P1']\n",
    "rezim = ['ORAT'] #'BHP'\n",
    "prod_z1s=[1]\n",
    "prod_z2s=[5]\n",
    "prod_q_oil = [200] #['*'] \n",
    "prod_bhp = ['*']\n",
    "only_prod = True # Строим модель только с добывающими скважинами\n",
    "horizontal = [True] # Идентификатор горизонтальной скважины для скрипта\n",
    "# Задаем скин (последовательно для добывающих и нагнетательных скважин)\n",
    "skin = [0]\n",
    "# Зададим плотности нефти, воды и газа\n",
    "oil_den = 860\n",
    "wat_den = 1010\n",
    "gas_den = 0.9\n",
    "density = [oil_den, wat_den, gas_den]\n",
    "# EQUILIBRIUM DATA\n",
    "p_depth = 2500 # Глубина замера пластового давления \n",
    "p_init = 320  # Начальное пластовое давление\n",
    "o_w_contact = 2507\n",
    "pc_woc = 0 # Капиллярное давление на ВНК \n",
    "g_o_contact = 2400\n",
    "pc_goc = 0 # Капиллярное давление на ГНК\n"
   ]
  },
  {
   "cell_type": "code",
   "execution_count": null,
   "metadata": {},
   "outputs": [],
   "source": [
    "nx = 6 # необходимо задавать нечентное число при cells_c = 1 для корректного расчета\n",
    "ny = 26 # в ином случае nx-cells_c должно быть четным\n",
    "cells_cx = 2\n",
    "cells_cy = 16 # количество центральных измельченных ячеек по y; пример: при cells_c = 4, суммарное количество единичных ячеек = 4*4\n",
    "cells_v = 25 # размер центральных ячеек\n",
    "prod_ys=[6]\n",
    "y_stop = [21] # Координата конца горизонтальной скважины\n",
    "prod_xs=[3]\n",
    "lx = [48, 64, 80, 96, 112]\n",
    "ly = [3333, 2500, 2000, 1667, 1429]\n",
    "for i in range(0, 5):\n",
    "    print(f'Модель №{i}')\n",
    "    print('Размер по X: ' + str(lx[i]))\n",
    "    print('Размер по Y: ' + str(ly[i]))\n",
    "    print('Плотность сетки скважин = ' + str(lx[i]*ly[i]/10000) + ' га')\n",
    "    print('Длина горизонтального ствола = 400 м')\n",
    "    model_name = f'TEST_MODEL{i}' # название модели (только с заглавное wip)\n",
    "    result_name = model_name + '_RESULT'\n",
    "    model = ModelGenerator(init_file_name='RIENM1_INIT.DATA',start_date=start_date, mounths=mounths, days=days, nx=nx, ny=ny, nz=nz, dz=dz, por=por, permx=permx,\n",
    "                     permy=permy, permz=permz, prod_names=prod_names, prod_xs=prod_xs, prod_ys=prod_ys, prod_z1s=prod_z1s, prod_z2s=prod_z2s, prod_q_oil=prod_q_oil,\n",
    "                     skin=skin, density=density, p_depth = p_depth, \n",
    "                     p_init = p_init, o_w_contact = o_w_contact, pc_woc = pc_woc, g_o_contact = g_o_contact, pc_goc = pc_goc, tops_depth = tops_depth,\n",
    "                     rezim = rezim, prod_bhp = prod_bhp, horizontal = horizontal, y_stop = y_stop, only_prod = only_prod,\n",
    "                          lgr = lgr, lx = lx[i], ly = ly[i], cells_cy = cells_cy, cells_v = cells_v, cells_cx = cells_cx)\n",
    "    model.create_model(model_name, result_name, parameters)"
   ]
  },
  {
   "cell_type": "code",
   "execution_count": null,
   "metadata": {},
   "outputs": [],
   "source": [
    "title = 'Динамика дебита нефти по годам'\n",
    "x_axis = 'Дата'\n",
    "y_axis = 'qн, м3/сут'\n",
    "model = ModelGenerator()\n",
    "model.summ_plot(['WOPR:P1'], x_axis=x_axis, y_axis=y_axis, title=title)\n",
    "model.iplot_fig()"
   ]
  },
  {
   "cell_type": "code",
   "execution_count": null,
   "metadata": {},
   "outputs": [],
   "source": [
    "title = 'Динамика накопленной добычи нефти по годам'\n",
    "x_axis = 'Дата'\n",
    "y_axis = 'Qнак, м3'\n",
    "model = ModelGenerator()\n",
    "model.summ_plot(['FOPT'], x_axis=x_axis, y_axis=y_axis, title=title)\n",
    "model.iplot_fig()"
   ]
  },
  {
   "cell_type": "code",
   "execution_count": null,
   "metadata": {},
   "outputs": [],
   "source": [
    "title = 'Динамика обводненности по годам'\n",
    "x_axis = 'Дата'\n",
    "y_axis = 'v, д. ед.'\n",
    "model = ModelGenerator()\n",
    "model.summ_plot(['FWCT'], x_axis=x_axis, y_axis=y_axis, title=title)\n",
    "model.iplot_fig()"
   ]
  },
  {
   "cell_type": "code",
   "execution_count": null,
   "metadata": {},
   "outputs": [],
   "source": [
    "title = 'Динамика пластового давления по годам'\n",
    "x_axis = 'Дата'\n",
    "y_axis = 'Pпл, атм'\n",
    "model = ModelGenerator()\n",
    "model.summ_plot(['FPR'], x_axis=x_axis, y_axis=y_axis, title=title)\n",
    "model.iplot_fig()"
   ]
  }
 ],
 "metadata": {
  "kernelspec": {
   "display_name": "Python 3",
   "language": "python",
   "name": "python3"
  },
  "language_info": {
   "codemirror_mode": {
    "name": "ipython",
    "version": 3
   },
   "file_extension": ".py",
   "mimetype": "text/x-python",
   "name": "python",
   "nbconvert_exporter": "python",
   "pygments_lexer": "ipython3",
   "version": "3.8.3"
  }
 },
 "nbformat": 4,
 "nbformat_minor": 4
}
