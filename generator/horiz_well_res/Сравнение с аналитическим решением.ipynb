{
 "cells": [
  {
   "cell_type": "code",
   "execution_count": 2,
   "metadata": {
    "scrolled": true
   },
   "outputs": [],
   "source": [
    "#from model_create import ModelGenerator, clear_folders\n",
    "#clear_folders()\n",
    "# Параметры, которые необходимо расчитать:\n",
    "parameters = ['FOPT', 'WOPR:*', 'FPR'] #, 'FWPT', 'FLPT', 'FGPT', 'FWIT']\n",
    "\n",
    "# Зададим дату начала расчета и продолжительность:\n",
    "start_date = \"1 'JAN' 2020\"\n",
    "mounths = 12 # количество итераций;\n",
    "days = 5 # продолжительность итерации;\n",
    "# Зададим размеры модели:\n",
    "lgr = True # локальное измельчение сетки по центру;\n",
    "cells_cy = 20 # количество измельченных ячеек по y;\n",
    "cells_cx = 4 # количество измельченных ячеек по x;\n",
    "cells_v = 10 # размер измельченных ячеек, м;\n",
    "nx = 30 # количество ячеек по х;\n",
    "ny = 40 # количество ячеек по y;\n",
    "nz = 10 # количество ячеек по z;\n",
    "lx = 1500 # длина модели по x, м;\n",
    "ly = lx # длина модели по y, м;\n",
    "dz = 1 # размер ячейки по z, м;\n",
    "tops_depth = 2500 # глубина залегания пласта, м;\n",
    "# Зададим пористость и проницаемость:\n",
    "por = 0.3 # пористость, д.ед;\n",
    "permx = 200 # проницаемость по x, мД;\n",
    "permy = permx # проницаемость по y, мД;\n",
    "permz = permx*0.1 # проницаемость по z, мД;\n",
    "# Зададим название, расположение добываюещей скважины и ее режим работы:\n",
    "horizontal = [True] # Идентификатор горизонтальной скважины для скрипта\n",
    "prod_names = ['P1'] # название скважин;\n",
    "prod_xs=[15] # координата скважин по x;\n",
    "prod_ys=[11] # координата скважин по y (если horizontal=true - начальная координата);\n",
    "y_stop = [31] # координата конца горизонтальной скважины, если horizontal=true;\n",
    "prod_z1s=[1] # начало интервала вскрытия по z;\n",
    "prod_z2s=[6] # конец интервала вскрытия по z (если horizontal=true, то показывает уровень вскрытия);\n",
    "rezim = ['BHP'] # Режим работы скважины\n",
    "prod_q_oil = ['*'] # дебит, м3/сут;\n",
    "prod_bhp = ['200'] # забойное давление, атм;\n",
    "# Другие настройки модели:\n",
    "only_prod = True # Модель только с добывающими скважинами\n",
    "upr_rezim_water = False # Моделируем упруго-водонапорный режим\n",
    "upr_rezim_gas = False # Моделируем газонапорный режим\n",
    "# Задаем скин, радиус скважины (последовательно для добывающих и нагнетательных скважин):\n",
    "skin = [0]\n",
    "rw = [0.146]\n",
    "# Свойства продукции:\n",
    "oil_den = 860 # плотность нефти, кг/м3;\n",
    "wat_den = 1010 # плотность воды, кг/м3;\n",
    "gas_den = 0.9 # плотность газа, кг/м3;\n",
    "density = [oil_den, wat_den, gas_den]\n",
    "# EQUILIBRIUM DATA:\n",
    "p_depth = 2500 # Глубина замера пластового давления, м;\n",
    "p_init = 320  # Начальное пластовое давление, атм;\n",
    "o_w_contact = 2550 # Глубина ВНК, м;\n",
    "pc_woc = 0 # Капиллярное давление на ВНК \n",
    "g_o_contact = 2400 # Глубина ГНК, м;\n",
    "pc_goc = 0 # Капиллярное давление на ГНК\n",
    "\n",
    "model_name = f'TEST_MODEL_HORIZONTAL.0'\n",
    "result_name = model_name\n",
    "# model = ModelGenerator(init_file_name='RIENM1_INIT.DATA',start_date=start_date, mounths=mounths,\n",
    "#                 days=days, nx=nx, ny=ny, nz=nz, dz=dz, por=por, permx=permx,\n",
    "#                 permy=permy, permz=permz, prod_names=prod_names, prod_xs=prod_xs,\n",
    "#                 prod_ys=prod_ys, prod_z1s=prod_z1s, prod_z2s=prod_z2s, prod_q_oil=prod_q_oil,\n",
    "#                 skin=skin, density=density, p_depth=p_depth, \n",
    "#                 p_init=p_init, o_w_contact=o_w_contact, pc_woc=pc_woc, g_o_contact=g_o_contact,\n",
    "#                 pc_goc=pc_goc, tops_depth = tops_depth,\n",
    "#                 rezim=rezim, prod_bhp=prod_bhp, horizontal=horizontal, y_stop=y_stop, only_prod=only_prod,\n",
    "#                 lgr=lgr, lx=lx, ly=ly, cells_cy=cells_cy, cells_v=cells_v, cells_cx=cells_cx,\n",
    "#                 upr_rezim_water=upr_rezim_water, upr_rezim_gas=upr_rezim_gas, rw=rw)\n",
    "# model.create_model(model_name, result_name, parameters)"
   ]
  },
  {
   "cell_type": "code",
   "execution_count": 3,
   "metadata": {},
   "outputs": [],
   "source": [
    "# model.summ_plot(['WOPR:P1'], name = [''])\n",
    "# model.iplot_fig()"
   ]
  },
  {
   "cell_type": "markdown",
   "metadata": {},
   "source": [
    "Сравним полученные значения со стационарными формулами:"
   ]
  },
  {
   "cell_type": "code",
   "execution_count": 5,
   "metadata": {},
   "outputs": [
    {
     "name": "stdout",
     "output_type": "stream",
     "text": [
      "Приток по 1 варианту: 2557 м3/сут\n",
      "Приток по 2 варианту: 4841 м3/сут\n",
      "Условие выбора формулы: 56.25\n",
      "10 12000000.0 0.0005 0.3343095256715246\n",
      "Приток по 3 варианту: 9800 м3/сут\n"
     ]
    }
   ],
   "source": [
    "import math as m\n",
    "pi = 3.14\n",
    "Rк = lx/2 # м, радиус контура питания\n",
    "dP = (p_init-int(prod_bhp[0]))/10*10**6 # Па, перепад давления\n",
    "k = permx/10**15 # м2, проницаемость (в числовой модели изотропный пласт)\n",
    "h = 10 # м, толщина пласта\n",
    "L = 200 # м, длина горизонтального участка в пласте\n",
    "mu = 0.0005 # Па*с, вязкость\n",
    "rc = 0.073 # м, радиус скважины\n",
    "Bo=1.2 # коэффициент объемного расширения\n",
    "a = lx # м, сторона модели\n",
    "\n",
    "# Вариант №1\n",
    "# Батлер\n",
    "Q4 = (2*3.14*k*h*dP)/(mu*(m.log1p(Rк/rc)-0.75))*86400/Bo\n",
    "print('Приток по 1 варианту: ' + str(round(Q4)) + ' м3/сут')\n",
    "\n",
    "# Вариант №2\n",
    "# Батлер - приток на псевдоустановившемся режиме к протяженной горизонтальной скважины 147 с.\n",
    "kh = k\n",
    "kv = permz/10**15\n",
    "Rm = 0.5*rc*(1+m.sqrt(kh/kv))\n",
    "hm = h*m.sqrt(kh/kv)\n",
    "Q5 = (6*kh*L*h*dP)/(mu*(a/2+3*hm/3.14*m.log1p(hm/2/3.14/Rm)))*86400/Bo\n",
    "print('Приток по 2 варианту: ' + str(round(Q5)) + ' м3/сут')\n",
    "\n",
    "# Вариант №3\n",
    "# Батлер - неуст. режим в центре прямоуг зоны с учетов вертикального схождения\n",
    "S=0\n",
    "A = lx*ly\n",
    "prow = A/(L**2) \n",
    "print('Условие выбора формулы: ' + str(prow))\n",
    "if prow < 35:\n",
    "    P = m.log1p(1+prow)/12\n",
    "else:\n",
    "    P = (m.log1p(prow)+0.1515)/(4*3.14)\n",
    "P_ = hm/(2*3.14*L)*(m.log1p(hm/(2*3.14*Rm*m.sin(3.14/2)))+S)\n",
    "Q1 = kh*h*dP/mu/(P_+P)*86400\n",
    "print(h, dP, mu, P)\n",
    "print('Приток по 3 варианту: ' + str(round(Q1)) + ' м3/сут')"
   ]
  },
  {
   "cell_type": "code",
   "execution_count": null,
   "metadata": {},
   "outputs": [],
   "source": []
  }
 ],
 "metadata": {
  "kernelspec": {
   "display_name": "Python 3",
   "language": "python",
   "name": "python3"
  },
  "language_info": {
   "codemirror_mode": {
    "name": "ipython",
    "version": 3
   },
   "file_extension": ".py",
   "mimetype": "text/x-python",
   "name": "python",
   "nbconvert_exporter": "python",
   "pygments_lexer": "ipython3",
   "version": "3.8.3"
  }
 },
 "nbformat": 4,
 "nbformat_minor": 4
}
