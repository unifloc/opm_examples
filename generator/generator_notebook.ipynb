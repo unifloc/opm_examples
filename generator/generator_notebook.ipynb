{
 "cells": [
  {
   "cell_type": "markdown",
   "metadata": {},
   "source": [
    "## Генератор моделей для симулятора \n"
   ]
  },
  {
   "cell_type": "markdown",
   "metadata": {},
   "source": [
    "**Класс который генерирует модели для симулятора. Он использует начальную заготовку которая лежит в папке и на ее основе, меняя ряд свойств, генерирует простые модели. На данный момент доступны следующие свойства к изменению, класс принимает следующие параметры:**\n",
    "\n",
    "* init_file_name='RIENM1_INIT.DATA - файл с исходной моделью, лучше не менять\n",
    "* nx=100, - количество ячеек по Х, по умолчанию 100\n",
    "* ny=100, - количество ячеек по У, по умолчанию 100\n",
    "* nz=3, - количество ячеек по Z, по умолчанию 3. З.Ы. тут были баги лучше меньше не задавать\n",
    "* dx=500, - размер ячейки по Х, пока в футах\n",
    "* dy=500, - размер ячейки по У, пока в футах\n",
    "* dz=20, - размер ячейки по Z, пока в футах\n",
    "* por=0.3, - пористость, везде будет одинаковая\n",
    "* permx=100, - проницамость в Х направлении, везде будет одинаковая\n",
    "* permy=100, - проницамость в У направлении, везде будет одинаковая\n",
    "* permz=100, - проницамость в Z направлении, везде будет одинаковая\n",
    "* prod_names=None, - список с названиями добывающих скважин, по умолчанию задается 4 скважины внутри класса\n",
    "* prod_xs=None, - соответствующий список с Х-координатами добывающих скважин, по умолчанию задается 4 координаты внутри класса\n",
    "* prod_ys=None, - соответствующий список с У-координатами добывающих скважин, по умолчанию задается 4 координаты внутри класса\n",
    "* prod_z1s=None, - соответствующий список с Z1-координатами добывающих скважин (верх перфорации), по умолчанию задается 4 координаты внутри класса\n",
    "* prod_z2s=None, - соответствующий список с Z2-координатами добывающих скважин (низ перфорации), по умолчанию задается 4 координаты внутри класса\n",
    "* inj_names=None, - аналогично добывающим, по умолчанию одна скважина\n",
    "* inj_xs=None, - аналогично добывающим, по умолчанию одна скважина\n",
    "* inj_ys=None, - аналогично добывающим, по умолчанию одна скважина\n",
    "* inj_z1s=None, - аналогично добывающим, по умолчанию одна скважина\n",
    "* inj_z2s=None - аналогично добывающим, по умолчанию одна скважина"
   ]
  },
  {
   "cell_type": "code",
   "execution_count": null,
   "metadata": {},
   "outputs": [],
   "source": [
    "import sys\n",
    "sys.path.insert(0,'../')\n",
    "\n",
    "from model_create import ModelGenerator\n",
    "\n",
    "import warnings\n",
    "warnings.filterwarnings('ignore')\n",
    "\n",
    "from plotly.offline import init_notebook_mode\n",
    "init_notebook_mode(connected=True)"
   ]
  },
  {
   "cell_type": "markdown",
   "metadata": {},
   "source": [
    "*У класса есть ряд методов для генерации модели, построения графика, выгрузки картинок моделей, а также \"ленивого\" создания, когда не нужно ничего указывать и все за вас будет сделано* "
   ]
  },
  {
   "cell_type": "code",
   "execution_count": null,
   "metadata": {
    "scrolled": false
   },
   "outputs": [],
   "source": [
    "model_factory = ModelGenerator()\n",
    "model_factory.create_lazy_5_spot()"
   ]
  },
  {
   "cell_type": "markdown",
   "metadata": {},
   "source": [
    "**После отработки предыдущей строки можно посмотреть на сетки из симулятора**"
   ]
  },
  {
   "cell_type": "code",
   "execution_count": null,
   "metadata": {},
   "outputs": [],
   "source": [
    "model_factory.display_grids()"
   ]
  },
  {
   "cell_type": "markdown",
   "metadata": {},
   "source": [
    "**А также на результаты расчета за все время**"
   ]
  },
  {
   "cell_type": "code",
   "execution_count": null,
   "metadata": {
    "scrolled": false
   },
   "outputs": [],
   "source": [
    "model_factory.iplot_fig()"
   ]
  },
  {
   "cell_type": "markdown",
   "metadata": {},
   "source": [
    "# Lets create own model"
   ]
  },
  {
   "cell_type": "code",
   "execution_count": 1,
   "metadata": {},
   "outputs": [],
   "source": [
    "from model_create import ModelGenerator\n",
    "\n",
    "# set necessary keys\n",
    "keys=[\"WOPR:*\", \"WWPR:*\", \"WLPR:*\",\n",
    "            \"WGPR:*\", \"WWIR:*\", \"WGOR:*\", \"WBHP:*\",\n",
    "            \"WOPT:*\", \"WWPT:*\", \"WLPT:*\", \"WGPT:*\",\n",
    "            \"WWIT:*\", \"FOPT\", \"FWPT\", \"FLPT\", \"FGPT\",\n",
    "            \"FWIT\"]"
   ]
  },
  {
   "cell_type": "code",
   "execution_count": 2,
   "metadata": {},
   "outputs": [],
   "source": [
    "# Set model parameters\n",
    "model_name = 'TEST_MODEL2' # название модели (только с заглавное wip)\n",
    "result_name = model_name + '_RESULT'\n",
    "# Зададим дату начала расчета и количество месяцев\n",
    "start_date = \"1 'JAN' 2020\"\n",
    "mounths = 24\n",
    "# Зададим размеры модели и ячеек, глубину залегания:\n",
    "nx = 21\n",
    "ny = 21\n",
    "nz = 4\n",
    "dx = 500 \n",
    "dy = 500 \n",
    "dz = 20\n",
    "tops_depth = 2500\n",
    "# Зададим пористость и проницаемость:\n",
    "por = 0.3\n",
    "permx = 100\n",
    "permy = permx\n",
    "permz = 0.1*permx\n",
    "# Зададим название, целевой дебит и расположение добываюещей скважины:\n",
    "prod_names = ['P1']\n",
    "rezim = ['BHP'] #'ORAT'\n",
    "prod_xs=[1]\n",
    "prod_ys=[1]\n",
    "prod_z1s=[1]\n",
    "prod_z2s=[2]\n",
    "prod_q_oil = ['*'] \n",
    "prod_bhp = [150]\n",
    "# Зададим название, расположение и забойное давление нагнетательной скважины:\n",
    "inj_names=['I1']\n",
    "inj_xs=[21]\n",
    "inj_ys=[21]\n",
    "inj_z1s=[3] # вскроем разные пропластки для реализации вертикально-латерального заводнения\n",
    "inj_z2s=[4]\n",
    "inj_bhp = [400] \n",
    "# Задаем скин (последовательно для добывающих и нагнетательных скважин)\n",
    "skin = [10, 10]\n",
    "# Зададим плотности нефти, воды и газа\n",
    "oil_den = 860\n",
    "wat_den = 1010\n",
    "gas_den = 0.9\n",
    "density = [oil_den, wat_den, gas_den]\n",
    "# EQUILIBRIUM DATA\n",
    "p_depth = 2510 # Глубина замера пластового давления \n",
    "p_init = 320  # Начальное пластовое давление\n",
    "o_w_contact = 2600\n",
    "pc_woc = 0 # Капиллярное давление на ВНК \n",
    "g_o_contact = 2500\n",
    "pc_goc = 0 # Капиллярное давление на ГНК\n",
    "# ( mult pore volume) "
   ]
  },
  {
   "cell_type": "markdown",
   "metadata": {},
   "source": [
    "Create new model:"
   ]
  },
  {
   "cell_type": "code",
   "execution_count": 3,
   "metadata": {},
   "outputs": [
    {
     "name": "stdout",
     "output_type": "stream",
     "text": [
      "DIMENS detected\n",
      "DIMENS written\n",
      "START detected\n",
      "START written\n",
      "DX detected\n",
      "DX written\n",
      "DY detected\n",
      "DY written\n",
      "DZ detected\n",
      "DZ written\n",
      "TOPS detected\n",
      "TOPS written\n",
      "PORO detected\n",
      "PORO written\n",
      "PERMX detected\n",
      "PERMX written\n",
      "PERMY detected\n",
      "PERMY written\n",
      "PERMZ detected\n",
      "PERMZ written\n",
      "DENSITY detected\n",
      "DENSITY written\n",
      "EQUIL detected\n",
      "EQUIL written\n",
      "WELSPECS detected\n",
      "WELSPECS written\n",
      "COMPDAT detected\n",
      "COMPDAT written\n",
      "WCONPROD detected\n",
      "WCONPROD written\n",
      "WCONINJE detected\n",
      "WCONINJE written\n",
      "TSTEP detected\n",
      "TSTEP written\n",
      "TEST_MODEL2_RESULT.csv is created\n",
      "TEST_MODEL2_RESULT.csv is read\n",
      "График построен и сохранен в атрибутах класса\n",
      "Trying port 50051\n",
      "Exporting to folder: /home/re/Documents/GitHub/OPM_model_generator/generator/model_folder/snapshots/TEST_MODEL2\n"
     ]
    }
   ],
   "source": [
    "new_model = ModelGenerator(init_file_name='RIENM1_INIT.DATA',start_date=start_date, mounths=mounths, nx=nx, ny=ny, nz=nz, dx=dx, dy=dy, dz=dz, por=por, permx=permx,\n",
    "                 permy=permy, permz=permz, prod_names=prod_names, prod_xs=prod_xs, prod_ys=prod_ys, prod_z1s=prod_z1s, prod_z2s=prod_z2s, prod_q_oil=prod_q_oil,\n",
    "                 inj_names=inj_names, inj_xs=inj_xs, inj_ys=inj_ys, inj_z1s=inj_z1s, inj_z2s=inj_z2s, inj_bhp=inj_bhp, skin=skin, density=density, p_depth = p_depth, \n",
    "                          p_init = p_init, o_w_contact = o_w_contact, pc_woc = pc_woc, g_o_contact = g_o_contact, pc_goc = pc_goc, tops_depth = tops_depth,\n",
    "                          rezim = rezim, prod_bhp = prod_bhp)\n",
    "new_model.create_model(model_name, result_name, keys)"
   ]
  },
  {
   "cell_type": "code",
   "execution_count": null,
   "metadata": {
    "scrolled": false
   },
   "outputs": [],
   "source": [
    "new_model.display_grids()"
   ]
  },
  {
   "cell_type": "code",
   "execution_count": null,
   "metadata": {},
   "outputs": [],
   "source": [
    "new_model.iplot_fig()"
   ]
  }
 ],
 "metadata": {
  "kernelspec": {
   "display_name": "Python 3",
   "language": "python",
   "name": "python3"
  },
  "language_info": {
   "codemirror_mode": {
    "name": "ipython",
    "version": 3
   },
   "file_extension": ".py",
   "mimetype": "text/x-python",
   "name": "python",
   "nbconvert_exporter": "python",
   "pygments_lexer": "ipython3",
   "version": "3.8.3"
  }
 },
 "nbformat": 4,
 "nbformat_minor": 2
}
